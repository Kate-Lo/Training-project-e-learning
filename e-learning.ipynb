{
 "cells": [
  {
   "cell_type": "markdown",
   "metadata": {},
   "source": [
    "# Project e-learning"
   ]
  },
  {
   "cell_type": "code",
   "execution_count": 1,
   "metadata": {},
   "outputs": [],
   "source": [
    "import pandas as pd\n",
    "import seaborn as sns"
   ]
  },
  {
   "cell_type": "code",
   "execution_count": null,
   "metadata": {},
   "outputs": [],
   "source": []
  },
  {
   "cell_type": "code",
   "execution_count": null,
   "metadata": {},
   "outputs": [],
   "source": []
  },
  {
   "cell_type": "markdown",
   "metadata": {},
   "source": [
    "## Data exploration"
   ]
  },
  {
   "cell_type": "markdown",
   "metadata": {},
   "source": [
    "Some steps of the exploration are missed there. I've left in the notebook only those necessary for understanding data and manipulations of the data."
   ]
  },
  {
   "cell_type": "markdown",
   "metadata": {},
   "source": [
    "### Tests"
   ]
  },
  {
   "cell_type": "code",
   "execution_count": 2,
   "metadata": {},
   "outputs": [],
   "source": [
    "tests = pd.read_csv('assessments.csv')"
   ]
  },
  {
   "cell_type": "code",
   "execution_count": 3,
   "metadata": {},
   "outputs": [
    {
     "data": {
      "text/html": [
       "<div>\n",
       "<style scoped>\n",
       "    .dataframe tbody tr th:only-of-type {\n",
       "        vertical-align: middle;\n",
       "    }\n",
       "\n",
       "    .dataframe tbody tr th {\n",
       "        vertical-align: top;\n",
       "    }\n",
       "\n",
       "    .dataframe thead th {\n",
       "        text-align: right;\n",
       "    }\n",
       "</style>\n",
       "<table border=\"1\" class=\"dataframe\">\n",
       "  <thead>\n",
       "    <tr style=\"text-align: right;\">\n",
       "      <th></th>\n",
       "      <th>code_module</th>\n",
       "      <th>code_presentation</th>\n",
       "      <th>id_assessment</th>\n",
       "      <th>assessment_type</th>\n",
       "      <th>date</th>\n",
       "      <th>weight</th>\n",
       "    </tr>\n",
       "  </thead>\n",
       "  <tbody>\n",
       "    <tr>\n",
       "      <th>0</th>\n",
       "      <td>AAA</td>\n",
       "      <td>2013J</td>\n",
       "      <td>1752</td>\n",
       "      <td>TMA</td>\n",
       "      <td>19.0</td>\n",
       "      <td>10.0</td>\n",
       "    </tr>\n",
       "    <tr>\n",
       "      <th>1</th>\n",
       "      <td>AAA</td>\n",
       "      <td>2013J</td>\n",
       "      <td>1753</td>\n",
       "      <td>TMA</td>\n",
       "      <td>54.0</td>\n",
       "      <td>20.0</td>\n",
       "    </tr>\n",
       "    <tr>\n",
       "      <th>2</th>\n",
       "      <td>AAA</td>\n",
       "      <td>2013J</td>\n",
       "      <td>1754</td>\n",
       "      <td>TMA</td>\n",
       "      <td>117.0</td>\n",
       "      <td>20.0</td>\n",
       "    </tr>\n",
       "    <tr>\n",
       "      <th>3</th>\n",
       "      <td>AAA</td>\n",
       "      <td>2013J</td>\n",
       "      <td>1755</td>\n",
       "      <td>TMA</td>\n",
       "      <td>166.0</td>\n",
       "      <td>20.0</td>\n",
       "    </tr>\n",
       "    <tr>\n",
       "      <th>4</th>\n",
       "      <td>AAA</td>\n",
       "      <td>2013J</td>\n",
       "      <td>1756</td>\n",
       "      <td>TMA</td>\n",
       "      <td>215.0</td>\n",
       "      <td>30.0</td>\n",
       "    </tr>\n",
       "  </tbody>\n",
       "</table>\n",
       "</div>"
      ],
      "text/plain": [
       "  code_module code_presentation  id_assessment assessment_type   date  weight\n",
       "0         AAA             2013J           1752             TMA   19.0    10.0\n",
       "1         AAA             2013J           1753             TMA   54.0    20.0\n",
       "2         AAA             2013J           1754             TMA  117.0    20.0\n",
       "3         AAA             2013J           1755             TMA  166.0    20.0\n",
       "4         AAA             2013J           1756             TMA  215.0    30.0"
      ]
     },
     "execution_count": 3,
     "metadata": {},
     "output_type": "execute_result"
    }
   ],
   "source": [
    "tests.head()"
   ]
  },
  {
   "cell_type": "code",
   "execution_count": 4,
   "metadata": {},
   "outputs": [
    {
     "data": {
      "text/plain": [
       "(206, 6)"
      ]
     },
     "execution_count": 4,
     "metadata": {},
     "output_type": "execute_result"
    }
   ],
   "source": [
    "tests.shape"
   ]
  },
  {
   "cell_type": "code",
   "execution_count": null,
   "metadata": {},
   "outputs": [],
   "source": []
  },
  {
   "cell_type": "markdown",
   "metadata": {},
   "source": [
    "### Scores"
   ]
  },
  {
   "cell_type": "code",
   "execution_count": 5,
   "metadata": {},
   "outputs": [],
   "source": [
    "scores = pd.read_csv('studentAssessment.csv')"
   ]
  },
  {
   "cell_type": "code",
   "execution_count": 6,
   "metadata": {},
   "outputs": [
    {
     "data": {
      "text/html": [
       "<div>\n",
       "<style scoped>\n",
       "    .dataframe tbody tr th:only-of-type {\n",
       "        vertical-align: middle;\n",
       "    }\n",
       "\n",
       "    .dataframe tbody tr th {\n",
       "        vertical-align: top;\n",
       "    }\n",
       "\n",
       "    .dataframe thead th {\n",
       "        text-align: right;\n",
       "    }\n",
       "</style>\n",
       "<table border=\"1\" class=\"dataframe\">\n",
       "  <thead>\n",
       "    <tr style=\"text-align: right;\">\n",
       "      <th></th>\n",
       "      <th>id_assessment</th>\n",
       "      <th>id_student</th>\n",
       "      <th>date_submitted</th>\n",
       "      <th>is_banked</th>\n",
       "      <th>score</th>\n",
       "    </tr>\n",
       "  </thead>\n",
       "  <tbody>\n",
       "    <tr>\n",
       "      <th>0</th>\n",
       "      <td>1752</td>\n",
       "      <td>11391</td>\n",
       "      <td>18</td>\n",
       "      <td>0</td>\n",
       "      <td>78.0</td>\n",
       "    </tr>\n",
       "    <tr>\n",
       "      <th>1</th>\n",
       "      <td>1752</td>\n",
       "      <td>28400</td>\n",
       "      <td>22</td>\n",
       "      <td>0</td>\n",
       "      <td>70.0</td>\n",
       "    </tr>\n",
       "    <tr>\n",
       "      <th>2</th>\n",
       "      <td>1752</td>\n",
       "      <td>31604</td>\n",
       "      <td>17</td>\n",
       "      <td>0</td>\n",
       "      <td>72.0</td>\n",
       "    </tr>\n",
       "    <tr>\n",
       "      <th>3</th>\n",
       "      <td>1752</td>\n",
       "      <td>32885</td>\n",
       "      <td>26</td>\n",
       "      <td>0</td>\n",
       "      <td>69.0</td>\n",
       "    </tr>\n",
       "    <tr>\n",
       "      <th>4</th>\n",
       "      <td>1752</td>\n",
       "      <td>38053</td>\n",
       "      <td>19</td>\n",
       "      <td>0</td>\n",
       "      <td>79.0</td>\n",
       "    </tr>\n",
       "  </tbody>\n",
       "</table>\n",
       "</div>"
      ],
      "text/plain": [
       "   id_assessment  id_student  date_submitted  is_banked  score\n",
       "0           1752       11391              18          0   78.0\n",
       "1           1752       28400              22          0   70.0\n",
       "2           1752       31604              17          0   72.0\n",
       "3           1752       32885              26          0   69.0\n",
       "4           1752       38053              19          0   79.0"
      ]
     },
     "execution_count": 6,
     "metadata": {},
     "output_type": "execute_result"
    }
   ],
   "source": [
    "scores.head()"
   ]
  },
  {
   "cell_type": "code",
   "execution_count": 7,
   "metadata": {},
   "outputs": [
    {
     "data": {
      "text/plain": [
       "(173912, 5)"
      ]
     },
     "execution_count": 7,
     "metadata": {},
     "output_type": "execute_result"
    }
   ],
   "source": [
    "scores.shape"
   ]
  },
  {
   "cell_type": "code",
   "execution_count": 8,
   "metadata": {},
   "outputs": [
    {
     "data": {
      "text/plain": [
       "id_assessment       0\n",
       "id_student          0\n",
       "date_submitted      0\n",
       "is_banked           0\n",
       "score             173\n",
       "dtype: int64"
      ]
     },
     "execution_count": 8,
     "metadata": {},
     "output_type": "execute_result"
    }
   ],
   "source": [
    "scores.isna().sum()"
   ]
  },
  {
   "cell_type": "code",
   "execution_count": null,
   "metadata": {},
   "outputs": [],
   "source": []
  },
  {
   "cell_type": "markdown",
   "metadata": {},
   "source": [
    "### Registration"
   ]
  },
  {
   "cell_type": "code",
   "execution_count": 9,
   "metadata": {},
   "outputs": [],
   "source": [
    "registration = pd.read_csv('studentRegistration.csv')"
   ]
  },
  {
   "cell_type": "code",
   "execution_count": 10,
   "metadata": {},
   "outputs": [
    {
     "data": {
      "text/html": [
       "<div>\n",
       "<style scoped>\n",
       "    .dataframe tbody tr th:only-of-type {\n",
       "        vertical-align: middle;\n",
       "    }\n",
       "\n",
       "    .dataframe tbody tr th {\n",
       "        vertical-align: top;\n",
       "    }\n",
       "\n",
       "    .dataframe thead th {\n",
       "        text-align: right;\n",
       "    }\n",
       "</style>\n",
       "<table border=\"1\" class=\"dataframe\">\n",
       "  <thead>\n",
       "    <tr style=\"text-align: right;\">\n",
       "      <th></th>\n",
       "      <th>code_module</th>\n",
       "      <th>code_presentation</th>\n",
       "      <th>id_student</th>\n",
       "      <th>date_registration</th>\n",
       "      <th>date_unregistration</th>\n",
       "    </tr>\n",
       "  </thead>\n",
       "  <tbody>\n",
       "    <tr>\n",
       "      <th>0</th>\n",
       "      <td>AAA</td>\n",
       "      <td>2013J</td>\n",
       "      <td>11391</td>\n",
       "      <td>-159.0</td>\n",
       "      <td>NaN</td>\n",
       "    </tr>\n",
       "    <tr>\n",
       "      <th>1</th>\n",
       "      <td>AAA</td>\n",
       "      <td>2013J</td>\n",
       "      <td>28400</td>\n",
       "      <td>-53.0</td>\n",
       "      <td>NaN</td>\n",
       "    </tr>\n",
       "    <tr>\n",
       "      <th>2</th>\n",
       "      <td>AAA</td>\n",
       "      <td>2013J</td>\n",
       "      <td>30268</td>\n",
       "      <td>-92.0</td>\n",
       "      <td>12.0</td>\n",
       "    </tr>\n",
       "    <tr>\n",
       "      <th>3</th>\n",
       "      <td>AAA</td>\n",
       "      <td>2013J</td>\n",
       "      <td>31604</td>\n",
       "      <td>-52.0</td>\n",
       "      <td>NaN</td>\n",
       "    </tr>\n",
       "    <tr>\n",
       "      <th>4</th>\n",
       "      <td>AAA</td>\n",
       "      <td>2013J</td>\n",
       "      <td>32885</td>\n",
       "      <td>-176.0</td>\n",
       "      <td>NaN</td>\n",
       "    </tr>\n",
       "  </tbody>\n",
       "</table>\n",
       "</div>"
      ],
      "text/plain": [
       "  code_module code_presentation  id_student  date_registration  \\\n",
       "0         AAA             2013J       11391             -159.0   \n",
       "1         AAA             2013J       28400              -53.0   \n",
       "2         AAA             2013J       30268              -92.0   \n",
       "3         AAA             2013J       31604              -52.0   \n",
       "4         AAA             2013J       32885             -176.0   \n",
       "\n",
       "   date_unregistration  \n",
       "0                  NaN  \n",
       "1                  NaN  \n",
       "2                 12.0  \n",
       "3                  NaN  \n",
       "4                  NaN  "
      ]
     },
     "execution_count": 10,
     "metadata": {},
     "output_type": "execute_result"
    }
   ],
   "source": [
    "registration.head()"
   ]
  },
  {
   "cell_type": "code",
   "execution_count": 11,
   "metadata": {},
   "outputs": [
    {
     "data": {
      "text/plain": [
       "(32593, 5)"
      ]
     },
     "execution_count": 11,
     "metadata": {},
     "output_type": "execute_result"
    }
   ],
   "source": [
    "registration.shape"
   ]
  },
  {
   "cell_type": "code",
   "execution_count": 12,
   "metadata": {},
   "outputs": [
    {
     "data": {
      "text/plain": [
       "code_module                0\n",
       "code_presentation          0\n",
       "id_student                 0\n",
       "date_registration         45\n",
       "date_unregistration    22521\n",
       "dtype: int64"
      ]
     },
     "execution_count": 12,
     "metadata": {},
     "output_type": "execute_result"
    }
   ],
   "source": [
    "registration.isna().sum()"
   ]
  },
  {
   "cell_type": "code",
   "execution_count": null,
   "metadata": {},
   "outputs": [],
   "source": []
  },
  {
   "cell_type": "markdown",
   "metadata": {},
   "source": [
    "## Data preparation"
   ]
  },
  {
   "cell_type": "code",
   "execution_count": 15,
   "metadata": {},
   "outputs": [],
   "source": [
    "# lst_exam contains a list of exam id"
   ]
  },
  {
   "cell_type": "code",
   "execution_count": 14,
   "metadata": {},
   "outputs": [],
   "source": [
    "lst_exam = tests.query('assessment_type == \"Exam\"').id_assessment"
   ]
  },
  {
   "cell_type": "code",
   "execution_count": 17,
   "metadata": {},
   "outputs": [],
   "source": [
    "# there're students in registration which were not registrated on course (NaN in date_registration)\n",
    "# to create a list of these students and to delete them from the df with scores\n",
    "# to add to registration a column st_pres_module for identification these students"
   ]
  },
  {
   "cell_type": "code",
   "execution_count": 18,
   "metadata": {},
   "outputs": [],
   "source": [
    "registration.id_student = registration.id_student.astype('string')"
   ]
  },
  {
   "cell_type": "code",
   "execution_count": 19,
   "metadata": {},
   "outputs": [],
   "source": [
    "registration['st_pres_module'] = registration.id_student + ' / ' + registration.code_presentation + ' / ' + registration.code_module"
   ]
  },
  {
   "cell_type": "code",
   "execution_count": 20,
   "metadata": {},
   "outputs": [],
   "source": [
    "notregistr_st = registration.query('date_registration != date_registration').st_pres_module"
   ]
  },
  {
   "cell_type": "code",
   "execution_count": null,
   "metadata": {},
   "outputs": [],
   "source": []
  },
  {
   "cell_type": "code",
   "execution_count": 21,
   "metadata": {},
   "outputs": [],
   "source": [
    "# to create a list of students (student / presentation / module), which canceled registrationto check if there're \n",
    "# students who get scores after canceling registration"
   ]
  },
  {
   "cell_type": "code",
   "execution_count": 22,
   "metadata": {},
   "outputs": [],
   "source": [
    "unregistr_st = registration.query('date_unregistration == date_unregistration').st_pres_module"
   ]
  },
  {
   "cell_type": "code",
   "execution_count": null,
   "metadata": {},
   "outputs": [],
   "source": []
  },
  {
   "cell_type": "code",
   "execution_count": 23,
   "metadata": {},
   "outputs": [],
   "source": [
    "# scores_adjusted is adjusted df scores\n",
    "# to add to scores columns code_presentation and code_module from tests and then to add a column st_pres_module"
   ]
  },
  {
   "cell_type": "code",
   "execution_count": 24,
   "metadata": {},
   "outputs": [],
   "source": [
    "scores_adjusted = scores.merge(tests[['code_presentation', 'code_module', 'id_assessment']], on='id_assessment')"
   ]
  },
  {
   "cell_type": "code",
   "execution_count": 25,
   "metadata": {},
   "outputs": [
    {
     "data": {
      "text/plain": [
       "(173912, 7)"
      ]
     },
     "execution_count": 25,
     "metadata": {},
     "output_type": "execute_result"
    }
   ],
   "source": [
    "scores_adjusted.shape"
   ]
  },
  {
   "cell_type": "code",
   "execution_count": 26,
   "metadata": {},
   "outputs": [],
   "source": [
    "scores_adjusted.id_student = scores_adjusted.id_student.astype('string')"
   ]
  },
  {
   "cell_type": "code",
   "execution_count": 27,
   "metadata": {},
   "outputs": [],
   "source": [
    "scores_adjusted['st_pres_module'] = scores_adjusted.id_student + ' / ' + scores_adjusted.code_presentation + ' / ' + scores_adjusted.code_module"
   ]
  },
  {
   "cell_type": "code",
   "execution_count": 28,
   "metadata": {},
   "outputs": [
    {
     "data": {
      "text/html": [
       "<div>\n",
       "<style scoped>\n",
       "    .dataframe tbody tr th:only-of-type {\n",
       "        vertical-align: middle;\n",
       "    }\n",
       "\n",
       "    .dataframe tbody tr th {\n",
       "        vertical-align: top;\n",
       "    }\n",
       "\n",
       "    .dataframe thead th {\n",
       "        text-align: right;\n",
       "    }\n",
       "</style>\n",
       "<table border=\"1\" class=\"dataframe\">\n",
       "  <thead>\n",
       "    <tr style=\"text-align: right;\">\n",
       "      <th></th>\n",
       "      <th>id_assessment</th>\n",
       "      <th>id_student</th>\n",
       "      <th>date_submitted</th>\n",
       "      <th>is_banked</th>\n",
       "      <th>score</th>\n",
       "      <th>code_presentation</th>\n",
       "      <th>code_module</th>\n",
       "      <th>st_pres_module</th>\n",
       "    </tr>\n",
       "  </thead>\n",
       "  <tbody>\n",
       "    <tr>\n",
       "      <th>0</th>\n",
       "      <td>1752</td>\n",
       "      <td>11391</td>\n",
       "      <td>18</td>\n",
       "      <td>0</td>\n",
       "      <td>78.0</td>\n",
       "      <td>2013J</td>\n",
       "      <td>AAA</td>\n",
       "      <td>11391 / 2013J / AAA</td>\n",
       "    </tr>\n",
       "    <tr>\n",
       "      <th>1</th>\n",
       "      <td>1752</td>\n",
       "      <td>28400</td>\n",
       "      <td>22</td>\n",
       "      <td>0</td>\n",
       "      <td>70.0</td>\n",
       "      <td>2013J</td>\n",
       "      <td>AAA</td>\n",
       "      <td>28400 / 2013J / AAA</td>\n",
       "    </tr>\n",
       "    <tr>\n",
       "      <th>2</th>\n",
       "      <td>1752</td>\n",
       "      <td>31604</td>\n",
       "      <td>17</td>\n",
       "      <td>0</td>\n",
       "      <td>72.0</td>\n",
       "      <td>2013J</td>\n",
       "      <td>AAA</td>\n",
       "      <td>31604 / 2013J / AAA</td>\n",
       "    </tr>\n",
       "    <tr>\n",
       "      <th>3</th>\n",
       "      <td>1752</td>\n",
       "      <td>32885</td>\n",
       "      <td>26</td>\n",
       "      <td>0</td>\n",
       "      <td>69.0</td>\n",
       "      <td>2013J</td>\n",
       "      <td>AAA</td>\n",
       "      <td>32885 / 2013J / AAA</td>\n",
       "    </tr>\n",
       "    <tr>\n",
       "      <th>4</th>\n",
       "      <td>1752</td>\n",
       "      <td>38053</td>\n",
       "      <td>19</td>\n",
       "      <td>0</td>\n",
       "      <td>79.0</td>\n",
       "      <td>2013J</td>\n",
       "      <td>AAA</td>\n",
       "      <td>38053 / 2013J / AAA</td>\n",
       "    </tr>\n",
       "  </tbody>\n",
       "</table>\n",
       "</div>"
      ],
      "text/plain": [
       "   id_assessment id_student  date_submitted  is_banked  score  \\\n",
       "0           1752      11391              18          0   78.0   \n",
       "1           1752      28400              22          0   70.0   \n",
       "2           1752      31604              17          0   72.0   \n",
       "3           1752      32885              26          0   69.0   \n",
       "4           1752      38053              19          0   79.0   \n",
       "\n",
       "  code_presentation code_module       st_pres_module  \n",
       "0             2013J         AAA  11391 / 2013J / AAA  \n",
       "1             2013J         AAA  28400 / 2013J / AAA  \n",
       "2             2013J         AAA  31604 / 2013J / AAA  \n",
       "3             2013J         AAA  32885 / 2013J / AAA  \n",
       "4             2013J         AAA  38053 / 2013J / AAA  "
      ]
     },
     "execution_count": 28,
     "metadata": {},
     "output_type": "execute_result"
    }
   ],
   "source": [
    "scores_adjusted.head()"
   ]
  },
  {
   "cell_type": "code",
   "execution_count": null,
   "metadata": {},
   "outputs": [],
   "source": []
  },
  {
   "cell_type": "code",
   "execution_count": 29,
   "metadata": {},
   "outputs": [],
   "source": [
    "# to check if there're students who didn't register to course, but get marks for it \n",
    "# if there're such students to not consider their scores"
   ]
  },
  {
   "cell_type": "code",
   "execution_count": 30,
   "metadata": {},
   "outputs": [
    {
     "data": {
      "text/html": [
       "<div>\n",
       "<style scoped>\n",
       "    .dataframe tbody tr th:only-of-type {\n",
       "        vertical-align: middle;\n",
       "    }\n",
       "\n",
       "    .dataframe tbody tr th {\n",
       "        vertical-align: top;\n",
       "    }\n",
       "\n",
       "    .dataframe thead th {\n",
       "        text-align: right;\n",
       "    }\n",
       "</style>\n",
       "<table border=\"1\" class=\"dataframe\">\n",
       "  <thead>\n",
       "    <tr style=\"text-align: right;\">\n",
       "      <th></th>\n",
       "      <th>id_assessment</th>\n",
       "      <th>id_student</th>\n",
       "      <th>date_submitted</th>\n",
       "      <th>is_banked</th>\n",
       "      <th>score</th>\n",
       "      <th>code_presentation</th>\n",
       "      <th>code_module</th>\n",
       "      <th>st_pres_module</th>\n",
       "    </tr>\n",
       "  </thead>\n",
       "  <tbody>\n",
       "    <tr>\n",
       "      <th>49800</th>\n",
       "      <td>24286</td>\n",
       "      <td>575419</td>\n",
       "      <td>20</td>\n",
       "      <td>0</td>\n",
       "      <td>0.0</td>\n",
       "      <td>2014B</td>\n",
       "      <td>CCC</td>\n",
       "      <td>575419 / 2014B / CCC</td>\n",
       "    </tr>\n",
       "    <tr>\n",
       "      <th>76953</th>\n",
       "      <td>25348</td>\n",
       "      <td>550142</td>\n",
       "      <td>-1</td>\n",
       "      <td>1</td>\n",
       "      <td>64.0</td>\n",
       "      <td>2013J</td>\n",
       "      <td>DDD</td>\n",
       "      <td>550142 / 2013J / DDD</td>\n",
       "    </tr>\n",
       "    <tr>\n",
       "      <th>77551</th>\n",
       "      <td>25349</td>\n",
       "      <td>550142</td>\n",
       "      <td>-1</td>\n",
       "      <td>1</td>\n",
       "      <td>68.0</td>\n",
       "      <td>2013J</td>\n",
       "      <td>DDD</td>\n",
       "      <td>550142 / 2013J / DDD</td>\n",
       "    </tr>\n",
       "    <tr>\n",
       "      <th>78971</th>\n",
       "      <td>25350</td>\n",
       "      <td>550142</td>\n",
       "      <td>-1</td>\n",
       "      <td>1</td>\n",
       "      <td>82.0</td>\n",
       "      <td>2013J</td>\n",
       "      <td>DDD</td>\n",
       "      <td>550142 / 2013J / DDD</td>\n",
       "    </tr>\n",
       "    <tr>\n",
       "      <th>80619</th>\n",
       "      <td>25351</td>\n",
       "      <td>550142</td>\n",
       "      <td>-1</td>\n",
       "      <td>1</td>\n",
       "      <td>16.0</td>\n",
       "      <td>2013J</td>\n",
       "      <td>DDD</td>\n",
       "      <td>550142 / 2013J / DDD</td>\n",
       "    </tr>\n",
       "    <tr>\n",
       "      <th>89561</th>\n",
       "      <td>25363</td>\n",
       "      <td>604632</td>\n",
       "      <td>41</td>\n",
       "      <td>0</td>\n",
       "      <td>85.0</td>\n",
       "      <td>2014J</td>\n",
       "      <td>DDD</td>\n",
       "      <td>604632 / 2014J / DDD</td>\n",
       "    </tr>\n",
       "    <tr>\n",
       "      <th>96515</th>\n",
       "      <td>30709</td>\n",
       "      <td>2681277</td>\n",
       "      <td>32</td>\n",
       "      <td>0</td>\n",
       "      <td>94.0</td>\n",
       "      <td>2013J</td>\n",
       "      <td>EEE</td>\n",
       "      <td>2681277 / 2013J / EEE</td>\n",
       "    </tr>\n",
       "  </tbody>\n",
       "</table>\n",
       "</div>"
      ],
      "text/plain": [
       "       id_assessment id_student  date_submitted  is_banked  score  \\\n",
       "49800          24286     575419              20          0    0.0   \n",
       "76953          25348     550142              -1          1   64.0   \n",
       "77551          25349     550142              -1          1   68.0   \n",
       "78971          25350     550142              -1          1   82.0   \n",
       "80619          25351     550142              -1          1   16.0   \n",
       "89561          25363     604632              41          0   85.0   \n",
       "96515          30709    2681277              32          0   94.0   \n",
       "\n",
       "      code_presentation code_module         st_pres_module  \n",
       "49800             2014B         CCC   575419 / 2014B / CCC  \n",
       "76953             2013J         DDD   550142 / 2013J / DDD  \n",
       "77551             2013J         DDD   550142 / 2013J / DDD  \n",
       "78971             2013J         DDD   550142 / 2013J / DDD  \n",
       "80619             2013J         DDD   550142 / 2013J / DDD  \n",
       "89561             2014J         DDD   604632 / 2014J / DDD  \n",
       "96515             2013J         EEE  2681277 / 2013J / EEE  "
      ]
     },
     "execution_count": 30,
     "metadata": {},
     "output_type": "execute_result"
    }
   ],
   "source": [
    "scores_adjusted.query('st_pres_module in @notregistr_st')"
   ]
  },
  {
   "cell_type": "code",
   "execution_count": 31,
   "metadata": {},
   "outputs": [],
   "source": [
    "scores_adjusted = scores_adjusted.query('~(st_pres_module in @notregistr_st)')"
   ]
  },
  {
   "cell_type": "code",
   "execution_count": 32,
   "metadata": {},
   "outputs": [
    {
     "data": {
      "text/plain": [
       "(173905, 8)"
      ]
     },
     "execution_count": 32,
     "metadata": {},
     "output_type": "execute_result"
    }
   ],
   "source": [
    "scores_adjusted.shape"
   ]
  },
  {
   "cell_type": "code",
   "execution_count": null,
   "metadata": {},
   "outputs": [],
   "source": []
  },
  {
   "cell_type": "code",
   "execution_count": 33,
   "metadata": {},
   "outputs": [],
   "source": [
    "# to check if there're scores get after canceling registration "
   ]
  },
  {
   "cell_type": "code",
   "execution_count": 34,
   "metadata": {},
   "outputs": [],
   "source": [
    "scores_adjusted = scores_adjusted.merge(registration[['date_unregistration', 'st_pres_module']], on='st_pres_module')"
   ]
  },
  {
   "cell_type": "code",
   "execution_count": 35,
   "metadata": {},
   "outputs": [
    {
     "data": {
      "text/html": [
       "<div>\n",
       "<style scoped>\n",
       "    .dataframe tbody tr th:only-of-type {\n",
       "        vertical-align: middle;\n",
       "    }\n",
       "\n",
       "    .dataframe tbody tr th {\n",
       "        vertical-align: top;\n",
       "    }\n",
       "\n",
       "    .dataframe thead th {\n",
       "        text-align: right;\n",
       "    }\n",
       "</style>\n",
       "<table border=\"1\" class=\"dataframe\">\n",
       "  <thead>\n",
       "    <tr style=\"text-align: right;\">\n",
       "      <th></th>\n",
       "      <th>id_assessment</th>\n",
       "      <th>id_student</th>\n",
       "      <th>date_submitted</th>\n",
       "      <th>is_banked</th>\n",
       "      <th>score</th>\n",
       "      <th>code_presentation</th>\n",
       "      <th>code_module</th>\n",
       "      <th>st_pres_module</th>\n",
       "      <th>date_unregistration</th>\n",
       "    </tr>\n",
       "  </thead>\n",
       "  <tbody>\n",
       "    <tr>\n",
       "      <th>0</th>\n",
       "      <td>1752</td>\n",
       "      <td>11391</td>\n",
       "      <td>18</td>\n",
       "      <td>0</td>\n",
       "      <td>78.0</td>\n",
       "      <td>2013J</td>\n",
       "      <td>AAA</td>\n",
       "      <td>11391 / 2013J / AAA</td>\n",
       "      <td>NaN</td>\n",
       "    </tr>\n",
       "    <tr>\n",
       "      <th>1</th>\n",
       "      <td>1753</td>\n",
       "      <td>11391</td>\n",
       "      <td>53</td>\n",
       "      <td>0</td>\n",
       "      <td>85.0</td>\n",
       "      <td>2013J</td>\n",
       "      <td>AAA</td>\n",
       "      <td>11391 / 2013J / AAA</td>\n",
       "      <td>NaN</td>\n",
       "    </tr>\n",
       "    <tr>\n",
       "      <th>2</th>\n",
       "      <td>1754</td>\n",
       "      <td>11391</td>\n",
       "      <td>115</td>\n",
       "      <td>0</td>\n",
       "      <td>80.0</td>\n",
       "      <td>2013J</td>\n",
       "      <td>AAA</td>\n",
       "      <td>11391 / 2013J / AAA</td>\n",
       "      <td>NaN</td>\n",
       "    </tr>\n",
       "    <tr>\n",
       "      <th>3</th>\n",
       "      <td>1755</td>\n",
       "      <td>11391</td>\n",
       "      <td>164</td>\n",
       "      <td>0</td>\n",
       "      <td>85.0</td>\n",
       "      <td>2013J</td>\n",
       "      <td>AAA</td>\n",
       "      <td>11391 / 2013J / AAA</td>\n",
       "      <td>NaN</td>\n",
       "    </tr>\n",
       "    <tr>\n",
       "      <th>4</th>\n",
       "      <td>1756</td>\n",
       "      <td>11391</td>\n",
       "      <td>212</td>\n",
       "      <td>0</td>\n",
       "      <td>82.0</td>\n",
       "      <td>2013J</td>\n",
       "      <td>AAA</td>\n",
       "      <td>11391 / 2013J / AAA</td>\n",
       "      <td>NaN</td>\n",
       "    </tr>\n",
       "  </tbody>\n",
       "</table>\n",
       "</div>"
      ],
      "text/plain": [
       "   id_assessment id_student  date_submitted  is_banked  score  \\\n",
       "0           1752      11391              18          0   78.0   \n",
       "1           1753      11391              53          0   85.0   \n",
       "2           1754      11391             115          0   80.0   \n",
       "3           1755      11391             164          0   85.0   \n",
       "4           1756      11391             212          0   82.0   \n",
       "\n",
       "  code_presentation code_module       st_pres_module  date_unregistration  \n",
       "0             2013J         AAA  11391 / 2013J / AAA                  NaN  \n",
       "1             2013J         AAA  11391 / 2013J / AAA                  NaN  \n",
       "2             2013J         AAA  11391 / 2013J / AAA                  NaN  \n",
       "3             2013J         AAA  11391 / 2013J / AAA                  NaN  \n",
       "4             2013J         AAA  11391 / 2013J / AAA                  NaN  "
      ]
     },
     "execution_count": 35,
     "metadata": {},
     "output_type": "execute_result"
    }
   ],
   "source": [
    "scores_adjusted.head()"
   ]
  },
  {
   "cell_type": "code",
   "execution_count": 36,
   "metadata": {},
   "outputs": [
    {
     "data": {
      "text/html": [
       "<div>\n",
       "<style scoped>\n",
       "    .dataframe tbody tr th:only-of-type {\n",
       "        vertical-align: middle;\n",
       "    }\n",
       "\n",
       "    .dataframe tbody tr th {\n",
       "        vertical-align: top;\n",
       "    }\n",
       "\n",
       "    .dataframe thead th {\n",
       "        text-align: right;\n",
       "    }\n",
       "</style>\n",
       "<table border=\"1\" class=\"dataframe\">\n",
       "  <thead>\n",
       "    <tr style=\"text-align: right;\">\n",
       "      <th></th>\n",
       "      <th>id_assessment</th>\n",
       "      <th>id_student</th>\n",
       "      <th>date_submitted</th>\n",
       "      <th>is_banked</th>\n",
       "      <th>score</th>\n",
       "      <th>code_presentation</th>\n",
       "      <th>code_module</th>\n",
       "      <th>st_pres_module</th>\n",
       "      <th>date_unregistration</th>\n",
       "    </tr>\n",
       "  </thead>\n",
       "  <tbody>\n",
       "    <tr>\n",
       "      <th>1897</th>\n",
       "      <td>1758</td>\n",
       "      <td>2158196</td>\n",
       "      <td>19</td>\n",
       "      <td>0</td>\n",
       "      <td>60.0</td>\n",
       "      <td>2014J</td>\n",
       "      <td>AAA</td>\n",
       "      <td>2158196 / 2014J / AAA</td>\n",
       "      <td>12.0</td>\n",
       "    </tr>\n",
       "    <tr>\n",
       "      <th>1898</th>\n",
       "      <td>1759</td>\n",
       "      <td>2158196</td>\n",
       "      <td>54</td>\n",
       "      <td>0</td>\n",
       "      <td>56.0</td>\n",
       "      <td>2014J</td>\n",
       "      <td>AAA</td>\n",
       "      <td>2158196 / 2014J / AAA</td>\n",
       "      <td>12.0</td>\n",
       "    </tr>\n",
       "    <tr>\n",
       "      <th>3697</th>\n",
       "      <td>14985</td>\n",
       "      <td>2366070</td>\n",
       "      <td>45</td>\n",
       "      <td>0</td>\n",
       "      <td>73.0</td>\n",
       "      <td>2013B</td>\n",
       "      <td>BBB</td>\n",
       "      <td>2366070 / 2013B / BBB</td>\n",
       "      <td>31.0</td>\n",
       "    </tr>\n",
       "    <tr>\n",
       "      <th>3698</th>\n",
       "      <td>14991</td>\n",
       "      <td>2366070</td>\n",
       "      <td>60</td>\n",
       "      <td>0</td>\n",
       "      <td>80.0</td>\n",
       "      <td>2013B</td>\n",
       "      <td>BBB</td>\n",
       "      <td>2366070 / 2013B / BBB</td>\n",
       "      <td>31.0</td>\n",
       "    </tr>\n",
       "    <tr>\n",
       "      <th>4370</th>\n",
       "      <td>14991</td>\n",
       "      <td>34756</td>\n",
       "      <td>60</td>\n",
       "      <td>0</td>\n",
       "      <td>80.0</td>\n",
       "      <td>2013B</td>\n",
       "      <td>BBB</td>\n",
       "      <td>34756 / 2013B / BBB</td>\n",
       "      <td>59.0</td>\n",
       "    </tr>\n",
       "    <tr>\n",
       "      <th>...</th>\n",
       "      <td>...</td>\n",
       "      <td>...</td>\n",
       "      <td>...</td>\n",
       "      <td>...</td>\n",
       "      <td>...</td>\n",
       "      <td>...</td>\n",
       "      <td>...</td>\n",
       "      <td>...</td>\n",
       "      <td>...</td>\n",
       "    </tr>\n",
       "    <tr>\n",
       "      <th>158679</th>\n",
       "      <td>34904</td>\n",
       "      <td>575710</td>\n",
       "      <td>20</td>\n",
       "      <td>0</td>\n",
       "      <td>58.0</td>\n",
       "      <td>2014J</td>\n",
       "      <td>FFF</td>\n",
       "      <td>575710 / 2014J / FFF</td>\n",
       "      <td>11.0</td>\n",
       "    </tr>\n",
       "    <tr>\n",
       "      <th>158682</th>\n",
       "      <td>34904</td>\n",
       "      <td>647417</td>\n",
       "      <td>16</td>\n",
       "      <td>0</td>\n",
       "      <td>88.0</td>\n",
       "      <td>2014J</td>\n",
       "      <td>FFF</td>\n",
       "      <td>647417 / 2014J / FFF</td>\n",
       "      <td>12.0</td>\n",
       "    </tr>\n",
       "    <tr>\n",
       "      <th>158683</th>\n",
       "      <td>34905</td>\n",
       "      <td>647417</td>\n",
       "      <td>20</td>\n",
       "      <td>0</td>\n",
       "      <td>93.0</td>\n",
       "      <td>2014J</td>\n",
       "      <td>FFF</td>\n",
       "      <td>647417 / 2014J / FFF</td>\n",
       "      <td>12.0</td>\n",
       "    </tr>\n",
       "    <tr>\n",
       "      <th>163281</th>\n",
       "      <td>37415</td>\n",
       "      <td>121056</td>\n",
       "      <td>37</td>\n",
       "      <td>0</td>\n",
       "      <td>45.0</td>\n",
       "      <td>2013J</td>\n",
       "      <td>GGG</td>\n",
       "      <td>121056 / 2013J / GGG</td>\n",
       "      <td>-8.0</td>\n",
       "    </tr>\n",
       "    <tr>\n",
       "      <th>173666</th>\n",
       "      <td>37435</td>\n",
       "      <td>480914</td>\n",
       "      <td>49</td>\n",
       "      <td>0</td>\n",
       "      <td>NaN</td>\n",
       "      <td>2014J</td>\n",
       "      <td>GGG</td>\n",
       "      <td>480914 / 2014J / GGG</td>\n",
       "      <td>12.0</td>\n",
       "    </tr>\n",
       "  </tbody>\n",
       "</table>\n",
       "<p>594 rows × 9 columns</p>\n",
       "</div>"
      ],
      "text/plain": [
       "        id_assessment id_student  date_submitted  is_banked  score  \\\n",
       "1897             1758    2158196              19          0   60.0   \n",
       "1898             1759    2158196              54          0   56.0   \n",
       "3697            14985    2366070              45          0   73.0   \n",
       "3698            14991    2366070              60          0   80.0   \n",
       "4370            14991      34756              60          0   80.0   \n",
       "...               ...        ...             ...        ...    ...   \n",
       "158679          34904     575710              20          0   58.0   \n",
       "158682          34904     647417              16          0   88.0   \n",
       "158683          34905     647417              20          0   93.0   \n",
       "163281          37415     121056              37          0   45.0   \n",
       "173666          37435     480914              49          0    NaN   \n",
       "\n",
       "       code_presentation code_module         st_pres_module  \\\n",
       "1897               2014J         AAA  2158196 / 2014J / AAA   \n",
       "1898               2014J         AAA  2158196 / 2014J / AAA   \n",
       "3697               2013B         BBB  2366070 / 2013B / BBB   \n",
       "3698               2013B         BBB  2366070 / 2013B / BBB   \n",
       "4370               2013B         BBB    34756 / 2013B / BBB   \n",
       "...                  ...         ...                    ...   \n",
       "158679             2014J         FFF   575710 / 2014J / FFF   \n",
       "158682             2014J         FFF   647417 / 2014J / FFF   \n",
       "158683             2014J         FFF   647417 / 2014J / FFF   \n",
       "163281             2013J         GGG   121056 / 2013J / GGG   \n",
       "173666             2014J         GGG   480914 / 2014J / GGG   \n",
       "\n",
       "        date_unregistration  \n",
       "1897                   12.0  \n",
       "1898                   12.0  \n",
       "3697                   31.0  \n",
       "3698                   31.0  \n",
       "4370                   59.0  \n",
       "...                     ...  \n",
       "158679                 11.0  \n",
       "158682                 12.0  \n",
       "158683                 12.0  \n",
       "163281                 -8.0  \n",
       "173666                 12.0  \n",
       "\n",
       "[594 rows x 9 columns]"
      ]
     },
     "execution_count": 36,
     "metadata": {},
     "output_type": "execute_result"
    }
   ],
   "source": [
    "scores_adjusted.query('(st_pres_module in @unregistr_st) & (date_submitted > date_unregistration)')"
   ]
  },
  {
   "cell_type": "code",
   "execution_count": 37,
   "metadata": {},
   "outputs": [],
   "source": [
    "# there're 594 rows with scores that was get after canceling registration"
   ]
  },
  {
   "cell_type": "code",
   "execution_count": 38,
   "metadata": {},
   "outputs": [],
   "source": [
    "rows_to_drop = scores_adjusted.query('(st_pres_module in @unregistr_st) & (date_submitted > date_unregistration)').index"
   ]
  },
  {
   "cell_type": "code",
   "execution_count": 39,
   "metadata": {},
   "outputs": [
    {
     "data": {
      "text/plain": [
       "594"
      ]
     },
     "execution_count": 39,
     "metadata": {},
     "output_type": "execute_result"
    }
   ],
   "source": [
    "len(rows_to_drop)"
   ]
  },
  {
   "cell_type": "code",
   "execution_count": 40,
   "metadata": {},
   "outputs": [],
   "source": [
    "scores_adjusted.drop(index=rows_to_drop, inplace=True)"
   ]
  },
  {
   "cell_type": "code",
   "execution_count": 41,
   "metadata": {},
   "outputs": [
    {
     "data": {
      "text/plain": [
       "(173311, 9)"
      ]
     },
     "execution_count": 41,
     "metadata": {},
     "output_type": "execute_result"
    }
   ],
   "source": [
    "scores_adjusted.shape"
   ]
  },
  {
   "cell_type": "code",
   "execution_count": 42,
   "metadata": {},
   "outputs": [],
   "source": [
    "scores_adjusted.drop(columns='date_unregistration', inplace=True)"
   ]
  },
  {
   "cell_type": "code",
   "execution_count": 43,
   "metadata": {},
   "outputs": [
    {
     "data": {
      "text/plain": [
       "(173311, 8)"
      ]
     },
     "execution_count": 43,
     "metadata": {},
     "output_type": "execute_result"
    }
   ],
   "source": [
    "scores_adjusted.shape"
   ]
  },
  {
   "cell_type": "code",
   "execution_count": null,
   "metadata": {},
   "outputs": [],
   "source": []
  },
  {
   "cell_type": "code",
   "execution_count": 44,
   "metadata": {},
   "outputs": [],
   "source": [
    "# as part of the questions are about course completion and course pass is a pass in the final exam \n",
    "# to check rows with Exam"
   ]
  },
  {
   "cell_type": "code",
   "execution_count": 45,
   "metadata": {},
   "outputs": [],
   "source": [
    "scores_adjusted.id_assessment = scores_adjusted.id_assessment.astype('int64')"
   ]
  },
  {
   "cell_type": "code",
   "execution_count": 46,
   "metadata": {},
   "outputs": [
    {
     "data": {
      "text/html": [
       "<div>\n",
       "<style scoped>\n",
       "    .dataframe tbody tr th:only-of-type {\n",
       "        vertical-align: middle;\n",
       "    }\n",
       "\n",
       "    .dataframe tbody tr th {\n",
       "        vertical-align: top;\n",
       "    }\n",
       "\n",
       "    .dataframe thead th {\n",
       "        text-align: right;\n",
       "    }\n",
       "</style>\n",
       "<table border=\"1\" class=\"dataframe\">\n",
       "  <thead>\n",
       "    <tr style=\"text-align: right;\">\n",
       "      <th></th>\n",
       "      <th>id_assessment</th>\n",
       "      <th>id_student</th>\n",
       "      <th>date_submitted</th>\n",
       "      <th>is_banked</th>\n",
       "      <th>score</th>\n",
       "      <th>code_presentation</th>\n",
       "      <th>code_module</th>\n",
       "      <th>st_pres_module</th>\n",
       "    </tr>\n",
       "  </thead>\n",
       "  <tbody>\n",
       "    <tr>\n",
       "      <th>46189</th>\n",
       "      <td>24290</td>\n",
       "      <td>29764</td>\n",
       "      <td>230</td>\n",
       "      <td>0</td>\n",
       "      <td>94.0</td>\n",
       "      <td>2014B</td>\n",
       "      <td>CCC</td>\n",
       "      <td>29764 / 2014B / CCC</td>\n",
       "    </tr>\n",
       "    <tr>\n",
       "      <th>46198</th>\n",
       "      <td>24290</td>\n",
       "      <td>29820</td>\n",
       "      <td>230</td>\n",
       "      <td>0</td>\n",
       "      <td>76.0</td>\n",
       "      <td>2014B</td>\n",
       "      <td>CCC</td>\n",
       "      <td>29820 / 2014B / CCC</td>\n",
       "    </tr>\n",
       "    <tr>\n",
       "      <th>46205</th>\n",
       "      <td>24290</td>\n",
       "      <td>40604</td>\n",
       "      <td>234</td>\n",
       "      <td>0</td>\n",
       "      <td>66.0</td>\n",
       "      <td>2014B</td>\n",
       "      <td>CCC</td>\n",
       "      <td>40604 / 2014B / CCC</td>\n",
       "    </tr>\n",
       "    <tr>\n",
       "      <th>46214</th>\n",
       "      <td>24290</td>\n",
       "      <td>42638</td>\n",
       "      <td>230</td>\n",
       "      <td>0</td>\n",
       "      <td>50.0</td>\n",
       "      <td>2014B</td>\n",
       "      <td>CCC</td>\n",
       "      <td>42638 / 2014B / CCC</td>\n",
       "    </tr>\n",
       "    <tr>\n",
       "      <th>46226</th>\n",
       "      <td>24290</td>\n",
       "      <td>46605</td>\n",
       "      <td>230</td>\n",
       "      <td>0</td>\n",
       "      <td>98.0</td>\n",
       "      <td>2014B</td>\n",
       "      <td>CCC</td>\n",
       "      <td>46605 / 2014B / CCC</td>\n",
       "    </tr>\n",
       "    <tr>\n",
       "      <th>...</th>\n",
       "      <td>...</td>\n",
       "      <td>...</td>\n",
       "      <td>...</td>\n",
       "      <td>...</td>\n",
       "      <td>...</td>\n",
       "      <td>...</td>\n",
       "      <td>...</td>\n",
       "      <td>...</td>\n",
       "    </tr>\n",
       "    <tr>\n",
       "      <th>95936</th>\n",
       "      <td>25368</td>\n",
       "      <td>653319</td>\n",
       "      <td>250</td>\n",
       "      <td>0</td>\n",
       "      <td>64.0</td>\n",
       "      <td>2014J</td>\n",
       "      <td>DDD</td>\n",
       "      <td>653319 / 2014J / DDD</td>\n",
       "    </tr>\n",
       "    <tr>\n",
       "      <th>95959</th>\n",
       "      <td>25368</td>\n",
       "      <td>650232</td>\n",
       "      <td>243</td>\n",
       "      <td>0</td>\n",
       "      <td>49.0</td>\n",
       "      <td>2014J</td>\n",
       "      <td>DDD</td>\n",
       "      <td>650232 / 2014J / DDD</td>\n",
       "    </tr>\n",
       "    <tr>\n",
       "      <th>95970</th>\n",
       "      <td>25368</td>\n",
       "      <td>485421</td>\n",
       "      <td>243</td>\n",
       "      <td>0</td>\n",
       "      <td>42.0</td>\n",
       "      <td>2014J</td>\n",
       "      <td>DDD</td>\n",
       "      <td>485421 / 2014J / DDD</td>\n",
       "    </tr>\n",
       "    <tr>\n",
       "      <th>95974</th>\n",
       "      <td>25368</td>\n",
       "      <td>508615</td>\n",
       "      <td>242</td>\n",
       "      <td>0</td>\n",
       "      <td>27.0</td>\n",
       "      <td>2014J</td>\n",
       "      <td>DDD</td>\n",
       "      <td>508615 / 2014J / DDD</td>\n",
       "    </tr>\n",
       "    <tr>\n",
       "      <th>95978</th>\n",
       "      <td>25368</td>\n",
       "      <td>607110</td>\n",
       "      <td>243</td>\n",
       "      <td>0</td>\n",
       "      <td>51.0</td>\n",
       "      <td>2014J</td>\n",
       "      <td>DDD</td>\n",
       "      <td>607110 / 2014J / DDD</td>\n",
       "    </tr>\n",
       "  </tbody>\n",
       "</table>\n",
       "<p>4958 rows × 8 columns</p>\n",
       "</div>"
      ],
      "text/plain": [
       "       id_assessment id_student  date_submitted  is_banked  score  \\\n",
       "46189          24290      29764             230          0   94.0   \n",
       "46198          24290      29820             230          0   76.0   \n",
       "46205          24290      40604             234          0   66.0   \n",
       "46214          24290      42638             230          0   50.0   \n",
       "46226          24290      46605             230          0   98.0   \n",
       "...              ...        ...             ...        ...    ...   \n",
       "95936          25368     653319             250          0   64.0   \n",
       "95959          25368     650232             243          0   49.0   \n",
       "95970          25368     485421             243          0   42.0   \n",
       "95974          25368     508615             242          0   27.0   \n",
       "95978          25368     607110             243          0   51.0   \n",
       "\n",
       "      code_presentation code_module        st_pres_module  \n",
       "46189             2014B         CCC   29764 / 2014B / CCC  \n",
       "46198             2014B         CCC   29820 / 2014B / CCC  \n",
       "46205             2014B         CCC   40604 / 2014B / CCC  \n",
       "46214             2014B         CCC   42638 / 2014B / CCC  \n",
       "46226             2014B         CCC   46605 / 2014B / CCC  \n",
       "...                 ...         ...                   ...  \n",
       "95936             2014J         DDD  653319 / 2014J / DDD  \n",
       "95959             2014J         DDD  650232 / 2014J / DDD  \n",
       "95970             2014J         DDD  485421 / 2014J / DDD  \n",
       "95974             2014J         DDD  508615 / 2014J / DDD  \n",
       "95978             2014J         DDD  607110 / 2014J / DDD  \n",
       "\n",
       "[4958 rows x 8 columns]"
      ]
     },
     "execution_count": 46,
     "metadata": {},
     "output_type": "execute_result"
    }
   ],
   "source": [
    "scores_adjusted.query('id_assessment in @lst_exam')"
   ]
  },
  {
   "cell_type": "code",
   "execution_count": 47,
   "metadata": {},
   "outputs": [
    {
     "data": {
      "text/plain": [
       "array(['CCC', 'DDD'], dtype=object)"
      ]
     },
     "execution_count": 47,
     "metadata": {},
     "output_type": "execute_result"
    }
   ],
   "source": [
    "scores_adjusted.query('id_assessment in @lst_exam').code_module.unique()"
   ]
  },
  {
   "cell_type": "code",
   "execution_count": 48,
   "metadata": {},
   "outputs": [
    {
     "data": {
      "text/plain": [
       "array(['2014B', '2014J', '2013B', '2013J'], dtype=object)"
      ]
     },
     "execution_count": 48,
     "metadata": {},
     "output_type": "execute_result"
    }
   ],
   "source": [
    "scores_adjusted.query('id_assessment in @lst_exam').code_presentation.unique()"
   ]
  },
  {
   "cell_type": "code",
   "execution_count": 49,
   "metadata": {},
   "outputs": [],
   "source": [
    "# as can be seen, the final examinations only took place for two courses\n",
    "# to create a list of semester/course pairs for which there are Exam scores"
   ]
  },
  {
   "cell_type": "code",
   "execution_count": 50,
   "metadata": {},
   "outputs": [],
   "source": [
    "scores_adjusted['pres_module'] = scores_adjusted.code_presentation + ' / ' + scores_adjusted.code_module"
   ]
  },
  {
   "cell_type": "code",
   "execution_count": 51,
   "metadata": {},
   "outputs": [],
   "source": [
    "lst_cd_pres = scores_adjusted.query('id_assessment in @lst_exam').pres_module.unique()"
   ]
  },
  {
   "cell_type": "code",
   "execution_count": 52,
   "metadata": {},
   "outputs": [],
   "source": [
    "# to check how many rows are related to the CCC and DDD tests"
   ]
  },
  {
   "cell_type": "code",
   "execution_count": 53,
   "metadata": {},
   "outputs": [
    {
     "data": {
      "text/html": [
       "<div>\n",
       "<style scoped>\n",
       "    .dataframe tbody tr th:only-of-type {\n",
       "        vertical-align: middle;\n",
       "    }\n",
       "\n",
       "    .dataframe tbody tr th {\n",
       "        vertical-align: top;\n",
       "    }\n",
       "\n",
       "    .dataframe thead th {\n",
       "        text-align: right;\n",
       "    }\n",
       "</style>\n",
       "<table border=\"1\" class=\"dataframe\">\n",
       "  <thead>\n",
       "    <tr style=\"text-align: right;\">\n",
       "      <th></th>\n",
       "      <th>id_assessment</th>\n",
       "      <th>id_student</th>\n",
       "      <th>date_submitted</th>\n",
       "      <th>is_banked</th>\n",
       "      <th>score</th>\n",
       "      <th>code_presentation</th>\n",
       "      <th>code_module</th>\n",
       "      <th>st_pres_module</th>\n",
       "      <th>pres_module</th>\n",
       "    </tr>\n",
       "  </thead>\n",
       "  <tbody>\n",
       "    <tr>\n",
       "      <th>46181</th>\n",
       "      <td>24282</td>\n",
       "      <td>29764</td>\n",
       "      <td>31</td>\n",
       "      <td>0</td>\n",
       "      <td>92.0</td>\n",
       "      <td>2014B</td>\n",
       "      <td>CCC</td>\n",
       "      <td>29764 / 2014B / CCC</td>\n",
       "      <td>2014B / CCC</td>\n",
       "    </tr>\n",
       "    <tr>\n",
       "      <th>46182</th>\n",
       "      <td>24283</td>\n",
       "      <td>29764</td>\n",
       "      <td>101</td>\n",
       "      <td>0</td>\n",
       "      <td>97.0</td>\n",
       "      <td>2014B</td>\n",
       "      <td>CCC</td>\n",
       "      <td>29764 / 2014B / CCC</td>\n",
       "      <td>2014B / CCC</td>\n",
       "    </tr>\n",
       "    <tr>\n",
       "      <th>46183</th>\n",
       "      <td>24284</td>\n",
       "      <td>29764</td>\n",
       "      <td>159</td>\n",
       "      <td>0</td>\n",
       "      <td>92.0</td>\n",
       "      <td>2014B</td>\n",
       "      <td>CCC</td>\n",
       "      <td>29764 / 2014B / CCC</td>\n",
       "      <td>2014B / CCC</td>\n",
       "    </tr>\n",
       "    <tr>\n",
       "      <th>46184</th>\n",
       "      <td>24285</td>\n",
       "      <td>29764</td>\n",
       "      <td>199</td>\n",
       "      <td>0</td>\n",
       "      <td>84.0</td>\n",
       "      <td>2014B</td>\n",
       "      <td>CCC</td>\n",
       "      <td>29764 / 2014B / CCC</td>\n",
       "      <td>2014B / CCC</td>\n",
       "    </tr>\n",
       "    <tr>\n",
       "      <th>46185</th>\n",
       "      <td>24286</td>\n",
       "      <td>29764</td>\n",
       "      <td>20</td>\n",
       "      <td>0</td>\n",
       "      <td>90.0</td>\n",
       "      <td>2014B</td>\n",
       "      <td>CCC</td>\n",
       "      <td>29764 / 2014B / CCC</td>\n",
       "      <td>2014B / CCC</td>\n",
       "    </tr>\n",
       "    <tr>\n",
       "      <th>...</th>\n",
       "      <td>...</td>\n",
       "      <td>...</td>\n",
       "      <td>...</td>\n",
       "      <td>...</td>\n",
       "      <td>...</td>\n",
       "      <td>...</td>\n",
       "      <td>...</td>\n",
       "      <td>...</td>\n",
       "      <td>...</td>\n",
       "    </tr>\n",
       "    <tr>\n",
       "      <th>95974</th>\n",
       "      <td>25368</td>\n",
       "      <td>508615</td>\n",
       "      <td>242</td>\n",
       "      <td>0</td>\n",
       "      <td>27.0</td>\n",
       "      <td>2014J</td>\n",
       "      <td>DDD</td>\n",
       "      <td>508615 / 2014J / DDD</td>\n",
       "      <td>2014J / DDD</td>\n",
       "    </tr>\n",
       "    <tr>\n",
       "      <th>95975</th>\n",
       "      <td>25365</td>\n",
       "      <td>612443</td>\n",
       "      <td>-1</td>\n",
       "      <td>1</td>\n",
       "      <td>71.0</td>\n",
       "      <td>2014J</td>\n",
       "      <td>DDD</td>\n",
       "      <td>612443 / 2014J / DDD</td>\n",
       "      <td>2014J / DDD</td>\n",
       "    </tr>\n",
       "    <tr>\n",
       "      <th>95976</th>\n",
       "      <td>25366</td>\n",
       "      <td>612443</td>\n",
       "      <td>144</td>\n",
       "      <td>0</td>\n",
       "      <td>56.0</td>\n",
       "      <td>2014J</td>\n",
       "      <td>DDD</td>\n",
       "      <td>612443 / 2014J / DDD</td>\n",
       "      <td>2014J / DDD</td>\n",
       "    </tr>\n",
       "    <tr>\n",
       "      <th>95977</th>\n",
       "      <td>25367</td>\n",
       "      <td>612443</td>\n",
       "      <td>197</td>\n",
       "      <td>0</td>\n",
       "      <td>69.0</td>\n",
       "      <td>2014J</td>\n",
       "      <td>DDD</td>\n",
       "      <td>612443 / 2014J / DDD</td>\n",
       "      <td>2014J / DDD</td>\n",
       "    </tr>\n",
       "    <tr>\n",
       "      <th>95978</th>\n",
       "      <td>25368</td>\n",
       "      <td>607110</td>\n",
       "      <td>243</td>\n",
       "      <td>0</td>\n",
       "      <td>51.0</td>\n",
       "      <td>2014J</td>\n",
       "      <td>DDD</td>\n",
       "      <td>607110 / 2014J / DDD</td>\n",
       "      <td>2014J / DDD</td>\n",
       "    </tr>\n",
       "  </tbody>\n",
       "</table>\n",
       "<p>49598 rows × 9 columns</p>\n",
       "</div>"
      ],
      "text/plain": [
       "       id_assessment id_student  date_submitted  is_banked  score  \\\n",
       "46181          24282      29764              31          0   92.0   \n",
       "46182          24283      29764             101          0   97.0   \n",
       "46183          24284      29764             159          0   92.0   \n",
       "46184          24285      29764             199          0   84.0   \n",
       "46185          24286      29764              20          0   90.0   \n",
       "...              ...        ...             ...        ...    ...   \n",
       "95974          25368     508615             242          0   27.0   \n",
       "95975          25365     612443              -1          1   71.0   \n",
       "95976          25366     612443             144          0   56.0   \n",
       "95977          25367     612443             197          0   69.0   \n",
       "95978          25368     607110             243          0   51.0   \n",
       "\n",
       "      code_presentation code_module        st_pres_module  pres_module  \n",
       "46181             2014B         CCC   29764 / 2014B / CCC  2014B / CCC  \n",
       "46182             2014B         CCC   29764 / 2014B / CCC  2014B / CCC  \n",
       "46183             2014B         CCC   29764 / 2014B / CCC  2014B / CCC  \n",
       "46184             2014B         CCC   29764 / 2014B / CCC  2014B / CCC  \n",
       "46185             2014B         CCC   29764 / 2014B / CCC  2014B / CCC  \n",
       "...                 ...         ...                   ...          ...  \n",
       "95974             2014J         DDD  508615 / 2014J / DDD  2014J / DDD  \n",
       "95975             2014J         DDD  612443 / 2014J / DDD  2014J / DDD  \n",
       "95976             2014J         DDD  612443 / 2014J / DDD  2014J / DDD  \n",
       "95977             2014J         DDD  612443 / 2014J / DDD  2014J / DDD  \n",
       "95978             2014J         DDD  607110 / 2014J / DDD  2014J / DDD  \n",
       "\n",
       "[49598 rows x 9 columns]"
      ]
     },
     "execution_count": 53,
     "metadata": {},
     "output_type": "execute_result"
    }
   ],
   "source": [
    "scores_adjusted.query('pres_module in @lst_cd_pres')"
   ]
  },
  {
   "cell_type": "code",
   "execution_count": null,
   "metadata": {},
   "outputs": [],
   "source": []
  },
  {
   "cell_type": "code",
   "execution_count": 54,
   "metadata": {},
   "outputs": [],
   "source": [
    "# a pass on a test is a grade >= 40 and a pass on a course is a pass on an exam\n",
    "# however there're scores on exams only on two courses\n",
    "\n",
    "# as some of the questions are about tests and some are about courses, I'll then use two datasets:\n",
    "# scores_adjusted with information about all scores and scores_for_module with information about scores on CCC and DDD"
   ]
  },
  {
   "cell_type": "code",
   "execution_count": 55,
   "metadata": {},
   "outputs": [
    {
     "data": {
      "text/plain": [
       "id_assessment          0\n",
       "id_student             0\n",
       "date_submitted         0\n",
       "is_banked              0\n",
       "score                158\n",
       "code_presentation      0\n",
       "code_module            0\n",
       "st_pres_module         0\n",
       "pres_module            0\n",
       "dtype: int64"
      ]
     },
     "execution_count": 55,
     "metadata": {},
     "output_type": "execute_result"
    }
   ],
   "source": [
    "scores_adjusted.isna().sum()"
   ]
  },
  {
   "cell_type": "code",
   "execution_count": 56,
   "metadata": {},
   "outputs": [],
   "source": [
    "# scores_adjusted contains 158 rows with missed scores\n",
    "# it's known that no score is given if the work wasn't passed\n",
    "# in turn, final exams aren't accepted if results of preliminary tests aren't in the system\n",
    "# to check if there're students who have received score on Exam but haven't taken one of the preliminary tests "
   ]
  },
  {
   "cell_type": "code",
   "execution_count": 57,
   "metadata": {},
   "outputs": [],
   "source": [
    "# lst_without_score contains a list of students who have missed scores"
   ]
  },
  {
   "cell_type": "code",
   "execution_count": 58,
   "metadata": {},
   "outputs": [],
   "source": [
    "lst_without_score = scores_adjusted.query('score != score').st_pres_module"
   ]
  },
  {
   "cell_type": "code",
   "execution_count": 59,
   "metadata": {},
   "outputs": [],
   "source": [
    "# exam_to_drop is a list of rows with information about exams which shouldn't have been taken,\n",
    "# as a student has missed scores on mid-term tests on this course\n",
    "# to drop these rows"
   ]
  },
  {
   "cell_type": "code",
   "execution_count": 60,
   "metadata": {},
   "outputs": [],
   "source": [
    "exam_to_drop = scores_adjusted.query('(st_pres_module in @lst_without_score) & (id_assessment in @lst_exam)').index"
   ]
  },
  {
   "cell_type": "code",
   "execution_count": 61,
   "metadata": {},
   "outputs": [],
   "source": [
    "scores_adjusted = scores_adjusted.drop(exam_to_drop)"
   ]
  },
  {
   "cell_type": "code",
   "execution_count": 62,
   "metadata": {},
   "outputs": [
    {
     "data": {
      "text/plain": [
       "(173295, 9)"
      ]
     },
     "execution_count": 62,
     "metadata": {},
     "output_type": "execute_result"
    }
   ],
   "source": [
    "scores_adjusted.shape"
   ]
  },
  {
   "cell_type": "code",
   "execution_count": null,
   "metadata": {},
   "outputs": [],
   "source": []
  },
  {
   "cell_type": "code",
   "execution_count": 63,
   "metadata": {},
   "outputs": [
    {
     "data": {
      "text/plain": [
       "count    173295.000000\n",
       "mean        116.080123\n",
       "std          71.039132\n",
       "min         -11.000000\n",
       "25%          52.000000\n",
       "50%         116.000000\n",
       "75%         173.000000\n",
       "max         285.000000\n",
       "Name: date_submitted, dtype: float64"
      ]
     },
     "execution_count": 63,
     "metadata": {},
     "output_type": "execute_result"
    }
   ],
   "source": [
    "scores_adjusted.date_submitted.describe()"
   ]
  },
  {
   "cell_type": "code",
   "execution_count": 64,
   "metadata": {},
   "outputs": [],
   "source": [
    "# there're negative values of test deadlines. Part of this is test credit from last term's results.\n",
    "# to delete those rows where the values of test deadlines are negative and there has been no retake"
   ]
  },
  {
   "cell_type": "code",
   "execution_count": 65,
   "metadata": {},
   "outputs": [
    {
     "data": {
      "text/html": [
       "<div>\n",
       "<style scoped>\n",
       "    .dataframe tbody tr th:only-of-type {\n",
       "        vertical-align: middle;\n",
       "    }\n",
       "\n",
       "    .dataframe tbody tr th {\n",
       "        vertical-align: top;\n",
       "    }\n",
       "\n",
       "    .dataframe thead th {\n",
       "        text-align: right;\n",
       "    }\n",
       "</style>\n",
       "<table border=\"1\" class=\"dataframe\">\n",
       "  <thead>\n",
       "    <tr style=\"text-align: right;\">\n",
       "      <th></th>\n",
       "      <th>id_assessment</th>\n",
       "      <th>id_student</th>\n",
       "      <th>date_submitted</th>\n",
       "      <th>is_banked</th>\n",
       "      <th>score</th>\n",
       "      <th>code_presentation</th>\n",
       "      <th>code_module</th>\n",
       "      <th>st_pres_module</th>\n",
       "      <th>pres_module</th>\n",
       "    </tr>\n",
       "  </thead>\n",
       "  <tbody>\n",
       "    <tr>\n",
       "      <th>4492</th>\n",
       "      <td>14984</td>\n",
       "      <td>84245</td>\n",
       "      <td>-4</td>\n",
       "      <td>0</td>\n",
       "      <td>82.0</td>\n",
       "      <td>2013B</td>\n",
       "      <td>BBB</td>\n",
       "      <td>84245 / 2013B / BBB</td>\n",
       "      <td>2013B / BBB</td>\n",
       "    </tr>\n",
       "    <tr>\n",
       "      <th>4845</th>\n",
       "      <td>14984</td>\n",
       "      <td>169515</td>\n",
       "      <td>-5</td>\n",
       "      <td>0</td>\n",
       "      <td>70.0</td>\n",
       "      <td>2013B</td>\n",
       "      <td>BBB</td>\n",
       "      <td>169515 / 2013B / BBB</td>\n",
       "      <td>2013B / BBB</td>\n",
       "    </tr>\n",
       "    <tr>\n",
       "      <th>6380</th>\n",
       "      <td>14984</td>\n",
       "      <td>418325</td>\n",
       "      <td>-3</td>\n",
       "      <td>0</td>\n",
       "      <td>75.0</td>\n",
       "      <td>2013B</td>\n",
       "      <td>BBB</td>\n",
       "      <td>418325 / 2013B / BBB</td>\n",
       "      <td>2013B / BBB</td>\n",
       "    </tr>\n",
       "    <tr>\n",
       "      <th>9322</th>\n",
       "      <td>14984</td>\n",
       "      <td>528698</td>\n",
       "      <td>-4</td>\n",
       "      <td>0</td>\n",
       "      <td>76.0</td>\n",
       "      <td>2013B</td>\n",
       "      <td>BBB</td>\n",
       "      <td>528698 / 2013B / BBB</td>\n",
       "      <td>2013B / BBB</td>\n",
       "    </tr>\n",
       "    <tr>\n",
       "      <th>9401</th>\n",
       "      <td>14984</td>\n",
       "      <td>530065</td>\n",
       "      <td>-3</td>\n",
       "      <td>0</td>\n",
       "      <td>49.0</td>\n",
       "      <td>2013B</td>\n",
       "      <td>BBB</td>\n",
       "      <td>530065 / 2013B / BBB</td>\n",
       "      <td>2013B / BBB</td>\n",
       "    </tr>\n",
       "    <tr>\n",
       "      <th>...</th>\n",
       "      <td>...</td>\n",
       "      <td>...</td>\n",
       "      <td>...</td>\n",
       "      <td>...</td>\n",
       "      <td>...</td>\n",
       "      <td>...</td>\n",
       "      <td>...</td>\n",
       "      <td>...</td>\n",
       "      <td>...</td>\n",
       "    </tr>\n",
       "    <tr>\n",
       "      <th>154559</th>\n",
       "      <td>34904</td>\n",
       "      <td>2459292</td>\n",
       "      <td>-2</td>\n",
       "      <td>0</td>\n",
       "      <td>100.0</td>\n",
       "      <td>2014J</td>\n",
       "      <td>FFF</td>\n",
       "      <td>2459292 / 2014J / FFF</td>\n",
       "      <td>2014J / FFF</td>\n",
       "    </tr>\n",
       "    <tr>\n",
       "      <th>155688</th>\n",
       "      <td>34899</td>\n",
       "      <td>197536</td>\n",
       "      <td>-5</td>\n",
       "      <td>0</td>\n",
       "      <td>88.0</td>\n",
       "      <td>2014J</td>\n",
       "      <td>FFF</td>\n",
       "      <td>197536 / 2014J / FFF</td>\n",
       "      <td>2014J / FFF</td>\n",
       "    </tr>\n",
       "    <tr>\n",
       "      <th>157506</th>\n",
       "      <td>34905</td>\n",
       "      <td>481240</td>\n",
       "      <td>-5</td>\n",
       "      <td>0</td>\n",
       "      <td>100.0</td>\n",
       "      <td>2014J</td>\n",
       "      <td>FFF</td>\n",
       "      <td>481240 / 2014J / FFF</td>\n",
       "      <td>2014J / FFF</td>\n",
       "    </tr>\n",
       "    <tr>\n",
       "      <th>158241</th>\n",
       "      <td>34904</td>\n",
       "      <td>537322</td>\n",
       "      <td>-2</td>\n",
       "      <td>0</td>\n",
       "      <td>82.0</td>\n",
       "      <td>2014J</td>\n",
       "      <td>FFF</td>\n",
       "      <td>537322 / 2014J / FFF</td>\n",
       "      <td>2014J / FFF</td>\n",
       "    </tr>\n",
       "    <tr>\n",
       "      <th>158431</th>\n",
       "      <td>34905</td>\n",
       "      <td>549219</td>\n",
       "      <td>-2</td>\n",
       "      <td>0</td>\n",
       "      <td>82.0</td>\n",
       "      <td>2014J</td>\n",
       "      <td>FFF</td>\n",
       "      <td>549219 / 2014J / FFF</td>\n",
       "      <td>2014J / FFF</td>\n",
       "    </tr>\n",
       "  </tbody>\n",
       "</table>\n",
       "<p>148 rows × 9 columns</p>\n",
       "</div>"
      ],
      "text/plain": [
       "        id_assessment id_student  date_submitted  is_banked  score  \\\n",
       "4492            14984      84245              -4          0   82.0   \n",
       "4845            14984     169515              -5          0   70.0   \n",
       "6380            14984     418325              -3          0   75.0   \n",
       "9322            14984     528698              -4          0   76.0   \n",
       "9401            14984     530065              -3          0   49.0   \n",
       "...               ...        ...             ...        ...    ...   \n",
       "154559          34904    2459292              -2          0  100.0   \n",
       "155688          34899     197536              -5          0   88.0   \n",
       "157506          34905     481240              -5          0  100.0   \n",
       "158241          34904     537322              -2          0   82.0   \n",
       "158431          34905     549219              -2          0   82.0   \n",
       "\n",
       "       code_presentation code_module         st_pres_module  pres_module  \n",
       "4492               2013B         BBB    84245 / 2013B / BBB  2013B / BBB  \n",
       "4845               2013B         BBB   169515 / 2013B / BBB  2013B / BBB  \n",
       "6380               2013B         BBB   418325 / 2013B / BBB  2013B / BBB  \n",
       "9322               2013B         BBB   528698 / 2013B / BBB  2013B / BBB  \n",
       "9401               2013B         BBB   530065 / 2013B / BBB  2013B / BBB  \n",
       "...                  ...         ...                    ...          ...  \n",
       "154559             2014J         FFF  2459292 / 2014J / FFF  2014J / FFF  \n",
       "155688             2014J         FFF   197536 / 2014J / FFF  2014J / FFF  \n",
       "157506             2014J         FFF   481240 / 2014J / FFF  2014J / FFF  \n",
       "158241             2014J         FFF   537322 / 2014J / FFF  2014J / FFF  \n",
       "158431             2014J         FFF   549219 / 2014J / FFF  2014J / FFF  \n",
       "\n",
       "[148 rows x 9 columns]"
      ]
     },
     "execution_count": 65,
     "metadata": {},
     "output_type": "execute_result"
    }
   ],
   "source": [
    "scores_adjusted.query('(date_submitted < 0) & (is_banked == 0)')"
   ]
  },
  {
   "cell_type": "code",
   "execution_count": 66,
   "metadata": {},
   "outputs": [],
   "source": [
    "scores_adjusted = scores_adjusted.query('(date_submitted >= 0) | ((date_submitted < 0) & (is_banked == 1))')"
   ]
  },
  {
   "cell_type": "code",
   "execution_count": 67,
   "metadata": {},
   "outputs": [
    {
     "data": {
      "text/plain": [
       "(173147, 9)"
      ]
     },
     "execution_count": 67,
     "metadata": {},
     "output_type": "execute_result"
    }
   ],
   "source": [
    "scores_adjusted.shape"
   ]
  },
  {
   "cell_type": "code",
   "execution_count": 68,
   "metadata": {},
   "outputs": [],
   "source": [
    "# to repalce negative values of test deadlines with 0, because students have taken them in previous semesters"
   ]
  },
  {
   "cell_type": "code",
   "execution_count": 69,
   "metadata": {},
   "outputs": [],
   "source": [
    "scores_adjusted.date_submitted = scores_adjusted.date_submitted.apply(lambda x: x if x >= 0 else 0)"
   ]
  },
  {
   "cell_type": "code",
   "execution_count": 70,
   "metadata": {},
   "outputs": [
    {
     "data": {
      "text/plain": [
       "count    173147.000000\n",
       "mean        116.194113\n",
       "std          70.963926\n",
       "min           0.000000\n",
       "25%          52.000000\n",
       "50%         116.000000\n",
       "75%         173.000000\n",
       "max         285.000000\n",
       "Name: date_submitted, dtype: float64"
      ]
     },
     "execution_count": 70,
     "metadata": {},
     "output_type": "execute_result"
    }
   ],
   "source": [
    "scores_adjusted.date_submitted.describe()"
   ]
  },
  {
   "cell_type": "code",
   "execution_count": null,
   "metadata": {},
   "outputs": [],
   "source": []
  },
  {
   "cell_type": "code",
   "execution_count": 71,
   "metadata": {},
   "outputs": [],
   "source": [
    "# to create df scores_for_module for information about courses for which there're final exams\n",
    "# lst_cd_pres - is a list semesters and courses in which final exams were taken"
   ]
  },
  {
   "cell_type": "code",
   "execution_count": 72,
   "metadata": {},
   "outputs": [],
   "source": [
    "scores_for_module = scores_adjusted.query('pres_module in @lst_cd_pres').reset_index(drop=True)"
   ]
  },
  {
   "cell_type": "code",
   "execution_count": 73,
   "metadata": {},
   "outputs": [
    {
     "data": {
      "text/html": [
       "<div>\n",
       "<style scoped>\n",
       "    .dataframe tbody tr th:only-of-type {\n",
       "        vertical-align: middle;\n",
       "    }\n",
       "\n",
       "    .dataframe tbody tr th {\n",
       "        vertical-align: top;\n",
       "    }\n",
       "\n",
       "    .dataframe thead th {\n",
       "        text-align: right;\n",
       "    }\n",
       "</style>\n",
       "<table border=\"1\" class=\"dataframe\">\n",
       "  <thead>\n",
       "    <tr style=\"text-align: right;\">\n",
       "      <th></th>\n",
       "      <th>id_assessment</th>\n",
       "      <th>id_student</th>\n",
       "      <th>date_submitted</th>\n",
       "      <th>is_banked</th>\n",
       "      <th>score</th>\n",
       "      <th>code_presentation</th>\n",
       "      <th>code_module</th>\n",
       "      <th>st_pres_module</th>\n",
       "      <th>pres_module</th>\n",
       "    </tr>\n",
       "  </thead>\n",
       "  <tbody>\n",
       "    <tr>\n",
       "      <th>0</th>\n",
       "      <td>24282</td>\n",
       "      <td>29764</td>\n",
       "      <td>31</td>\n",
       "      <td>0</td>\n",
       "      <td>92.0</td>\n",
       "      <td>2014B</td>\n",
       "      <td>CCC</td>\n",
       "      <td>29764 / 2014B / CCC</td>\n",
       "      <td>2014B / CCC</td>\n",
       "    </tr>\n",
       "    <tr>\n",
       "      <th>1</th>\n",
       "      <td>24283</td>\n",
       "      <td>29764</td>\n",
       "      <td>101</td>\n",
       "      <td>0</td>\n",
       "      <td>97.0</td>\n",
       "      <td>2014B</td>\n",
       "      <td>CCC</td>\n",
       "      <td>29764 / 2014B / CCC</td>\n",
       "      <td>2014B / CCC</td>\n",
       "    </tr>\n",
       "    <tr>\n",
       "      <th>2</th>\n",
       "      <td>24284</td>\n",
       "      <td>29764</td>\n",
       "      <td>159</td>\n",
       "      <td>0</td>\n",
       "      <td>92.0</td>\n",
       "      <td>2014B</td>\n",
       "      <td>CCC</td>\n",
       "      <td>29764 / 2014B / CCC</td>\n",
       "      <td>2014B / CCC</td>\n",
       "    </tr>\n",
       "    <tr>\n",
       "      <th>3</th>\n",
       "      <td>24285</td>\n",
       "      <td>29764</td>\n",
       "      <td>199</td>\n",
       "      <td>0</td>\n",
       "      <td>84.0</td>\n",
       "      <td>2014B</td>\n",
       "      <td>CCC</td>\n",
       "      <td>29764 / 2014B / CCC</td>\n",
       "      <td>2014B / CCC</td>\n",
       "    </tr>\n",
       "    <tr>\n",
       "      <th>4</th>\n",
       "      <td>24286</td>\n",
       "      <td>29764</td>\n",
       "      <td>20</td>\n",
       "      <td>0</td>\n",
       "      <td>90.0</td>\n",
       "      <td>2014B</td>\n",
       "      <td>CCC</td>\n",
       "      <td>29764 / 2014B / CCC</td>\n",
       "      <td>2014B / CCC</td>\n",
       "    </tr>\n",
       "  </tbody>\n",
       "</table>\n",
       "</div>"
      ],
      "text/plain": [
       "   id_assessment id_student  date_submitted  is_banked  score  \\\n",
       "0          24282      29764              31          0   92.0   \n",
       "1          24283      29764             101          0   97.0   \n",
       "2          24284      29764             159          0   92.0   \n",
       "3          24285      29764             199          0   84.0   \n",
       "4          24286      29764              20          0   90.0   \n",
       "\n",
       "  code_presentation code_module       st_pres_module  pres_module  \n",
       "0             2014B         CCC  29764 / 2014B / CCC  2014B / CCC  \n",
       "1             2014B         CCC  29764 / 2014B / CCC  2014B / CCC  \n",
       "2             2014B         CCC  29764 / 2014B / CCC  2014B / CCC  \n",
       "3             2014B         CCC  29764 / 2014B / CCC  2014B / CCC  \n",
       "4             2014B         CCC  29764 / 2014B / CCC  2014B / CCC  "
      ]
     },
     "execution_count": 73,
     "metadata": {},
     "output_type": "execute_result"
    }
   ],
   "source": [
    "scores_for_module.head()"
   ]
  },
  {
   "cell_type": "code",
   "execution_count": 74,
   "metadata": {},
   "outputs": [
    {
     "data": {
      "text/plain": [
       "(49571, 9)"
      ]
     },
     "execution_count": 74,
     "metadata": {},
     "output_type": "execute_result"
    }
   ],
   "source": [
    "scores_for_module.shape"
   ]
  },
  {
   "cell_type": "code",
   "execution_count": null,
   "metadata": {},
   "outputs": [],
   "source": []
  },
  {
   "cell_type": "code",
   "execution_count": 75,
   "metadata": {},
   "outputs": [],
   "source": [
    "# to drop unnecessary columns in both df"
   ]
  },
  {
   "cell_type": "code",
   "execution_count": 76,
   "metadata": {},
   "outputs": [],
   "source": [
    "scores_for_module = scores_for_module.drop('st_pres_module', axis=1)"
   ]
  },
  {
   "cell_type": "code",
   "execution_count": 77,
   "metadata": {},
   "outputs": [],
   "source": [
    "scores_adjusted = scores_adjusted.drop('st_pres_module', axis=1)"
   ]
  },
  {
   "cell_type": "code",
   "execution_count": null,
   "metadata": {},
   "outputs": [],
   "source": []
  },
  {
   "cell_type": "code",
   "execution_count": 78,
   "metadata": {},
   "outputs": [],
   "source": [
    "# to create adjusted df registration_adj without missed values in registration date"
   ]
  },
  {
   "cell_type": "code",
   "execution_count": 79,
   "metadata": {},
   "outputs": [],
   "source": [
    "registration_adj = registration.query('date_registration == date_registration')"
   ]
  },
  {
   "cell_type": "code",
   "execution_count": null,
   "metadata": {},
   "outputs": [],
   "source": []
  },
  {
   "cell_type": "markdown",
   "metadata": {},
   "source": [
    "Therefore, there're 2 df:\n",
    "\n",
    "scores_adjusted - for analysis test scores\n",
    "\n",
    "scores_for_module - for analysis course scores"
   ]
  },
  {
   "cell_type": "code",
   "execution_count": null,
   "metadata": {},
   "outputs": [],
   "source": []
  },
  {
   "cell_type": "code",
   "execution_count": null,
   "metadata": {},
   "outputs": [],
   "source": []
  },
  {
   "cell_type": "markdown",
   "metadata": {},
   "source": [
    "## Tasks"
   ]
  },
  {
   "cell_type": "markdown",
   "metadata": {},
   "source": [
    "1. How many students have passed only one course successfully? (Successfull pass is pass in an the examination)"
   ]
  },
  {
   "cell_type": "code",
   "execution_count": 80,
   "metadata": {},
   "outputs": [],
   "source": [
    "# using scores_for_module\n",
    "\n",
    "# good_exam - is a list of students and the number of final exam they passed successfully  "
   ]
  },
  {
   "cell_type": "code",
   "execution_count": 81,
   "metadata": {},
   "outputs": [],
   "source": [
    "good_exam = (scores_for_module.query('(score >= 40) & (id_assessment in @lst_exam)')\n",
    "                                .groupby('id_student', as_index=False)\n",
    "                                .agg({'id_assessment': 'count'})\n",
    "                                .rename(columns={'id_assessment': 'cnt'})\n",
    "                    )"
   ]
  },
  {
   "cell_type": "code",
   "execution_count": 82,
   "metadata": {},
   "outputs": [
    {
     "data": {
      "text/html": [
       "<div>\n",
       "<style scoped>\n",
       "    .dataframe tbody tr th:only-of-type {\n",
       "        vertical-align: middle;\n",
       "    }\n",
       "\n",
       "    .dataframe tbody tr th {\n",
       "        vertical-align: top;\n",
       "    }\n",
       "\n",
       "    .dataframe thead th {\n",
       "        text-align: right;\n",
       "    }\n",
       "</style>\n",
       "<table border=\"1\" class=\"dataframe\">\n",
       "  <thead>\n",
       "    <tr style=\"text-align: right;\">\n",
       "      <th></th>\n",
       "      <th>id_student</th>\n",
       "      <th>cnt</th>\n",
       "    </tr>\n",
       "  </thead>\n",
       "  <tbody>\n",
       "    <tr>\n",
       "      <th>0</th>\n",
       "      <td>100788</td>\n",
       "      <td>1</td>\n",
       "    </tr>\n",
       "    <tr>\n",
       "      <th>1</th>\n",
       "      <td>102221</td>\n",
       "      <td>1</td>\n",
       "    </tr>\n",
       "    <tr>\n",
       "      <th>2</th>\n",
       "      <td>1023623</td>\n",
       "      <td>1</td>\n",
       "    </tr>\n",
       "    <tr>\n",
       "      <th>3</th>\n",
       "      <td>102850</td>\n",
       "      <td>1</td>\n",
       "    </tr>\n",
       "    <tr>\n",
       "      <th>4</th>\n",
       "      <td>1031884</td>\n",
       "      <td>2</td>\n",
       "    </tr>\n",
       "  </tbody>\n",
       "</table>\n",
       "</div>"
      ],
      "text/plain": [
       "  id_student  cnt\n",
       "0     100788    1\n",
       "1     102221    1\n",
       "2    1023623    1\n",
       "3     102850    1\n",
       "4    1031884    2"
      ]
     },
     "execution_count": 82,
     "metadata": {},
     "output_type": "execute_result"
    }
   ],
   "source": [
    "good_exam.head()"
   ]
  },
  {
   "cell_type": "code",
   "execution_count": 83,
   "metadata": {},
   "outputs": [
    {
     "data": {
      "text/plain": [
       "3794"
      ]
     },
     "execution_count": 83,
     "metadata": {},
     "output_type": "execute_result"
    }
   ],
   "source": [
    "good_exam.query('cnt == 1').shape[0]"
   ]
  },
  {
   "cell_type": "markdown",
   "metadata": {},
   "source": [
    "3794 students successfully complited  only one course"
   ]
  },
  {
   "cell_type": "code",
   "execution_count": null,
   "metadata": {},
   "outputs": [],
   "source": []
  },
  {
   "cell_type": "code",
   "execution_count": null,
   "metadata": {},
   "outputs": [],
   "source": []
  },
  {
   "cell_type": "markdown",
   "metadata": {},
   "source": [
    "2. What examinations were the hardest and the easiest? To find courses and examination within the course that the lowest and the highest completion rate"
   ]
  },
  {
   "cell_type": "code",
   "execution_count": 84,
   "metadata": {},
   "outputs": [],
   "source": [
    "# first to look at df with all scores - scores_adjusted\n",
    "\n",
    "# to calculate how many times each test was attempted"
   ]
  },
  {
   "cell_type": "code",
   "execution_count": 85,
   "metadata": {},
   "outputs": [],
   "source": [
    "total_attempts = (scores_adjusted.groupby('id_assessment', as_index=False)\n",
    "                                .agg({'id_student': 'count'})\n",
    "                                .rename(columns={'id_student': 'total_attempts'})\n",
    ")"
   ]
  },
  {
   "cell_type": "code",
   "execution_count": 86,
   "metadata": {},
   "outputs": [
    {
     "data": {
      "text/html": [
       "<div>\n",
       "<style scoped>\n",
       "    .dataframe tbody tr th:only-of-type {\n",
       "        vertical-align: middle;\n",
       "    }\n",
       "\n",
       "    .dataframe tbody tr th {\n",
       "        vertical-align: top;\n",
       "    }\n",
       "\n",
       "    .dataframe thead th {\n",
       "        text-align: right;\n",
       "    }\n",
       "</style>\n",
       "<table border=\"1\" class=\"dataframe\">\n",
       "  <thead>\n",
       "    <tr style=\"text-align: right;\">\n",
       "      <th></th>\n",
       "      <th>id_assessment</th>\n",
       "      <th>total_attempts</th>\n",
       "    </tr>\n",
       "  </thead>\n",
       "  <tbody>\n",
       "    <tr>\n",
       "      <th>0</th>\n",
       "      <td>1752</td>\n",
       "      <td>359</td>\n",
       "    </tr>\n",
       "    <tr>\n",
       "      <th>1</th>\n",
       "      <td>1753</td>\n",
       "      <td>342</td>\n",
       "    </tr>\n",
       "    <tr>\n",
       "      <th>2</th>\n",
       "      <td>1754</td>\n",
       "      <td>331</td>\n",
       "    </tr>\n",
       "    <tr>\n",
       "      <th>3</th>\n",
       "      <td>1755</td>\n",
       "      <td>303</td>\n",
       "    </tr>\n",
       "    <tr>\n",
       "      <th>4</th>\n",
       "      <td>1756</td>\n",
       "      <td>298</td>\n",
       "    </tr>\n",
       "  </tbody>\n",
       "</table>\n",
       "</div>"
      ],
      "text/plain": [
       "   id_assessment  total_attempts\n",
       "0           1752             359\n",
       "1           1753             342\n",
       "2           1754             331\n",
       "3           1755             303\n",
       "4           1756             298"
      ]
     },
     "execution_count": 86,
     "metadata": {},
     "output_type": "execute_result"
    }
   ],
   "source": [
    "total_attempts.head()"
   ]
  },
  {
   "cell_type": "code",
   "execution_count": 87,
   "metadata": {},
   "outputs": [],
   "source": [
    "# to find how many students successfully have passed each test"
   ]
  },
  {
   "cell_type": "code",
   "execution_count": 88,
   "metadata": {},
   "outputs": [],
   "source": [
    "good_attempts = (scores_adjusted.query('score >= 40')\n",
    "                                .groupby('id_assessment', as_index=False)\n",
    "                                .agg({'id_student': 'count'})\n",
    "                                .rename(columns={'id_student': 'good_attempts'}) )"
   ]
  },
  {
   "cell_type": "code",
   "execution_count": 89,
   "metadata": {},
   "outputs": [
    {
     "data": {
      "text/html": [
       "<div>\n",
       "<style scoped>\n",
       "    .dataframe tbody tr th:only-of-type {\n",
       "        vertical-align: middle;\n",
       "    }\n",
       "\n",
       "    .dataframe tbody tr th {\n",
       "        vertical-align: top;\n",
       "    }\n",
       "\n",
       "    .dataframe thead th {\n",
       "        text-align: right;\n",
       "    }\n",
       "</style>\n",
       "<table border=\"1\" class=\"dataframe\">\n",
       "  <thead>\n",
       "    <tr style=\"text-align: right;\">\n",
       "      <th></th>\n",
       "      <th>id_assessment</th>\n",
       "      <th>good_attempts</th>\n",
       "    </tr>\n",
       "  </thead>\n",
       "  <tbody>\n",
       "    <tr>\n",
       "      <th>0</th>\n",
       "      <td>1752</td>\n",
       "      <td>352</td>\n",
       "    </tr>\n",
       "    <tr>\n",
       "      <th>1</th>\n",
       "      <td>1753</td>\n",
       "      <td>330</td>\n",
       "    </tr>\n",
       "    <tr>\n",
       "      <th>2</th>\n",
       "      <td>1754</td>\n",
       "      <td>325</td>\n",
       "    </tr>\n",
       "    <tr>\n",
       "      <th>3</th>\n",
       "      <td>1755</td>\n",
       "      <td>294</td>\n",
       "    </tr>\n",
       "    <tr>\n",
       "      <th>4</th>\n",
       "      <td>1756</td>\n",
       "      <td>290</td>\n",
       "    </tr>\n",
       "  </tbody>\n",
       "</table>\n",
       "</div>"
      ],
      "text/plain": [
       "   id_assessment  good_attempts\n",
       "0           1752            352\n",
       "1           1753            330\n",
       "2           1754            325\n",
       "3           1755            294\n",
       "4           1756            290"
      ]
     },
     "execution_count": 89,
     "metadata": {},
     "output_type": "execute_result"
    }
   ],
   "source": [
    "good_attempts.head()"
   ]
  },
  {
   "cell_type": "code",
   "execution_count": 90,
   "metadata": {},
   "outputs": [],
   "source": [
    "# to merge total_attempts and good_attempts and to find proportion of successfully passed tests"
   ]
  },
  {
   "cell_type": "code",
   "execution_count": 91,
   "metadata": {},
   "outputs": [],
   "source": [
    "all_attempts = good_attempts.merge(total_attempts, on='id_assessment')"
   ]
  },
  {
   "cell_type": "code",
   "execution_count": 92,
   "metadata": {},
   "outputs": [],
   "source": [
    "all_attempts['rate'] = all_attempts.good_attempts / all_attempts.total_attempts"
   ]
  },
  {
   "cell_type": "code",
   "execution_count": 93,
   "metadata": {},
   "outputs": [
    {
     "data": {
      "text/html": [
       "<div>\n",
       "<style scoped>\n",
       "    .dataframe tbody tr th:only-of-type {\n",
       "        vertical-align: middle;\n",
       "    }\n",
       "\n",
       "    .dataframe tbody tr th {\n",
       "        vertical-align: top;\n",
       "    }\n",
       "\n",
       "    .dataframe thead th {\n",
       "        text-align: right;\n",
       "    }\n",
       "</style>\n",
       "<table border=\"1\" class=\"dataframe\">\n",
       "  <thead>\n",
       "    <tr style=\"text-align: right;\">\n",
       "      <th></th>\n",
       "      <th>id_assessment</th>\n",
       "      <th>good_attempts</th>\n",
       "      <th>total_attempts</th>\n",
       "      <th>rate</th>\n",
       "    </tr>\n",
       "  </thead>\n",
       "  <tbody>\n",
       "    <tr>\n",
       "      <th>43</th>\n",
       "      <td>15020</td>\n",
       "      <td>991</td>\n",
       "      <td>1682</td>\n",
       "      <td>0.589180</td>\n",
       "    </tr>\n",
       "    <tr>\n",
       "      <th>92</th>\n",
       "      <td>25360</td>\n",
       "      <td>334</td>\n",
       "      <td>450</td>\n",
       "      <td>0.742222</td>\n",
       "    </tr>\n",
       "    <tr>\n",
       "      <th>71</th>\n",
       "      <td>25339</td>\n",
       "      <td>392</td>\n",
       "      <td>503</td>\n",
       "      <td>0.779324</td>\n",
       "    </tr>\n",
       "    <tr>\n",
       "      <th>85</th>\n",
       "      <td>25353</td>\n",
       "      <td>664</td>\n",
       "      <td>845</td>\n",
       "      <td>0.785799</td>\n",
       "    </tr>\n",
       "    <tr>\n",
       "      <th>52</th>\n",
       "      <td>24286</td>\n",
       "      <td>1080</td>\n",
       "      <td>1326</td>\n",
       "      <td>0.814480</td>\n",
       "    </tr>\n",
       "    <tr>\n",
       "      <th>...</th>\n",
       "      <td>...</td>\n",
       "      <td>...</td>\n",
       "      <td>...</td>\n",
       "      <td>...</td>\n",
       "    </tr>\n",
       "    <tr>\n",
       "      <th>143</th>\n",
       "      <td>34892</td>\n",
       "      <td>851</td>\n",
       "      <td>851</td>\n",
       "      <td>1.000000</td>\n",
       "    </tr>\n",
       "    <tr>\n",
       "      <th>147</th>\n",
       "      <td>34896</td>\n",
       "      <td>747</td>\n",
       "      <td>747</td>\n",
       "      <td>1.000000</td>\n",
       "    </tr>\n",
       "    <tr>\n",
       "      <th>174</th>\n",
       "      <td>37429</td>\n",
       "      <td>559</td>\n",
       "      <td>559</td>\n",
       "      <td>1.000000</td>\n",
       "    </tr>\n",
       "    <tr>\n",
       "      <th>131</th>\n",
       "      <td>34879</td>\n",
       "      <td>1341</td>\n",
       "      <td>1341</td>\n",
       "      <td>1.000000</td>\n",
       "    </tr>\n",
       "    <tr>\n",
       "      <th>157</th>\n",
       "      <td>34907</td>\n",
       "      <td>1234</td>\n",
       "      <td>1234</td>\n",
       "      <td>1.000000</td>\n",
       "    </tr>\n",
       "  </tbody>\n",
       "</table>\n",
       "<p>188 rows × 4 columns</p>\n",
       "</div>"
      ],
      "text/plain": [
       "     id_assessment  good_attempts  total_attempts      rate\n",
       "43           15020            991            1682  0.589180\n",
       "92           25360            334             450  0.742222\n",
       "71           25339            392             503  0.779324\n",
       "85           25353            664             845  0.785799\n",
       "52           24286           1080            1326  0.814480\n",
       "..             ...            ...             ...       ...\n",
       "143          34892            851             851  1.000000\n",
       "147          34896            747             747  1.000000\n",
       "174          37429            559             559  1.000000\n",
       "131          34879           1341            1341  1.000000\n",
       "157          34907           1234            1234  1.000000\n",
       "\n",
       "[188 rows x 4 columns]"
      ]
     },
     "execution_count": 93,
     "metadata": {},
     "output_type": "execute_result"
    }
   ],
   "source": [
    "all_attempts.sort_values('rate')"
   ]
  },
  {
   "cell_type": "code",
   "execution_count": 94,
   "metadata": {},
   "outputs": [
    {
     "data": {
      "text/plain": [
       "<seaborn.axisgrid.FacetGrid at 0x19b6022a790>"
      ]
     },
     "execution_count": 94,
     "metadata": {},
     "output_type": "execute_result"
    },
    {
     "data": {
      "image/png": "[encoded data removed]",
      "text/plain": [
       "<Figure size 360x360 with 1 Axes>"
      ]
     },
     "metadata": {
      "needs_background": "light"
     },
     "output_type": "display_data"
    }
   ],
   "source": [
    "sns.displot(data=all_attempts, x='rate')"
   ]
  },
  {
   "cell_type": "code",
   "execution_count": 95,
   "metadata": {},
   "outputs": [],
   "source": [
    "hard_test = all_attempts.iloc[all_attempts.rate.idxmin()].id_assessment"
   ]
  },
  {
   "cell_type": "code",
   "execution_count": 96,
   "metadata": {},
   "outputs": [
    {
     "data": {
      "text/plain": [
       "15020.0"
      ]
     },
     "execution_count": 96,
     "metadata": {},
     "output_type": "execute_result"
    }
   ],
   "source": [
    "hard_test"
   ]
  },
  {
   "cell_type": "code",
   "execution_count": 97,
   "metadata": {},
   "outputs": [],
   "source": [
    "simple_test = all_attempts.query('rate == 1').id_assessment"
   ]
  },
  {
   "cell_type": "code",
   "execution_count": 98,
   "metadata": {},
   "outputs": [],
   "source": [
    "# to find out in which courses these tests are given"
   ]
  },
  {
   "cell_type": "code",
   "execution_count": 99,
   "metadata": {},
   "outputs": [],
   "source": [
    "hard_module = tests.query('id_assessment == @hard_test').code_module"
   ]
  },
  {
   "cell_type": "code",
   "execution_count": 100,
   "metadata": {},
   "outputs": [
    {
     "data": {
      "text/plain": [
       "48    BBB\n",
       "Name: code_module, dtype: object"
      ]
     },
     "execution_count": 100,
     "metadata": {},
     "output_type": "execute_result"
    }
   ],
   "source": [
    "hard_module"
   ]
  },
  {
   "cell_type": "code",
   "execution_count": 101,
   "metadata": {},
   "outputs": [],
   "source": [
    "simple_module = tests[['id_assessment', 'code_module']].query('id_assessment in @simple_test')"
   ]
  },
  {
   "cell_type": "code",
   "execution_count": 102,
   "metadata": {},
   "outputs": [
    {
     "data": {
      "text/html": [
       "<div>\n",
       "<style scoped>\n",
       "    .dataframe tbody tr th:only-of-type {\n",
       "        vertical-align: middle;\n",
       "    }\n",
       "\n",
       "    .dataframe tbody tr th {\n",
       "        vertical-align: top;\n",
       "    }\n",
       "\n",
       "    .dataframe thead th {\n",
       "        text-align: right;\n",
       "    }\n",
       "</style>\n",
       "<table border=\"1\" class=\"dataframe\">\n",
       "  <thead>\n",
       "    <tr style=\"text-align: right;\">\n",
       "      <th></th>\n",
       "      <th>id_assessment</th>\n",
       "      <th>code_module</th>\n",
       "    </tr>\n",
       "  </thead>\n",
       "  <tbody>\n",
       "    <tr>\n",
       "      <th>138</th>\n",
       "      <td>34879</td>\n",
       "      <td>FFF</td>\n",
       "    </tr>\n",
       "    <tr>\n",
       "      <th>151</th>\n",
       "      <td>34892</td>\n",
       "      <td>FFF</td>\n",
       "    </tr>\n",
       "    <tr>\n",
       "      <th>156</th>\n",
       "      <td>34896</td>\n",
       "      <td>FFF</td>\n",
       "    </tr>\n",
       "    <tr>\n",
       "      <th>166</th>\n",
       "      <td>34907</td>\n",
       "      <td>FFF</td>\n",
       "    </tr>\n",
       "    <tr>\n",
       "      <th>187</th>\n",
       "      <td>37429</td>\n",
       "      <td>GGG</td>\n",
       "    </tr>\n",
       "  </tbody>\n",
       "</table>\n",
       "</div>"
      ],
      "text/plain": [
       "     id_assessment code_module\n",
       "138          34879         FFF\n",
       "151          34892         FFF\n",
       "156          34896         FFF\n",
       "166          34907         FFF\n",
       "187          37429         GGG"
      ]
     },
     "execution_count": 102,
     "metadata": {},
     "output_type": "execute_result"
    }
   ],
   "source": [
    "simple_module"
   ]
  },
  {
   "cell_type": "markdown",
   "metadata": {},
   "source": [
    "The hardest test is 15020 in course BBB.\n",
    "\n",
    "The simplest tests are 34879, 34892, 34896, 34907 in course FFF and 37429 in course GGG"
   ]
  },
  {
   "cell_type": "code",
   "execution_count": null,
   "metadata": {},
   "outputs": [],
   "source": []
  },
  {
   "cell_type": "code",
   "execution_count": 103,
   "metadata": {},
   "outputs": [],
   "source": [
    "# for analysis course completition using scores_for_module\n",
    "\n",
    "# to count how many credits there were in the final examinations"
   ]
  },
  {
   "cell_type": "code",
   "execution_count": 104,
   "metadata": {},
   "outputs": [],
   "source": [
    "good_exams = (scores_for_module.query('(id_assessment in @lst_exam) & (score >=40)')\n",
    "                             .groupby('id_assessment', as_index=False)\n",
    "                             .agg({'id_student': 'count'})\n",
    "                             .rename(columns={'id_student': 'good_exam'})\n",
    "            )"
   ]
  },
  {
   "cell_type": "code",
   "execution_count": 105,
   "metadata": {},
   "outputs": [],
   "source": [
    "# to count all attemts to pass exams"
   ]
  },
  {
   "cell_type": "code",
   "execution_count": 106,
   "metadata": {},
   "outputs": [],
   "source": [
    "total_exams = (scores_for_module.query('id_assessment in @lst_exam')\n",
    "                             .groupby('id_assessment', as_index=False)\n",
    "                             .agg({'id_student': 'count'})\n",
    "                             .rename(columns={'id_student': 'total_exam'})\n",
    "            )"
   ]
  },
  {
   "cell_type": "code",
   "execution_count": 107,
   "metadata": {},
   "outputs": [],
   "source": [
    "all_exams = good_exams.merge(total_exams, on='id_assessment')"
   ]
  },
  {
   "cell_type": "code",
   "execution_count": 108,
   "metadata": {},
   "outputs": [],
   "source": [
    "all_exams['rate'] = all_exams.good_exam / all_exams.total_exam"
   ]
  },
  {
   "cell_type": "code",
   "execution_count": 109,
   "metadata": {},
   "outputs": [],
   "source": [
    "all_exams = all_exams.merge(tests[['code_module', 'code_presentation', 'id_assessment']], on='id_assessment')"
   ]
  },
  {
   "cell_type": "code",
   "execution_count": null,
   "metadata": {},
   "outputs": [],
   "source": []
  },
  {
   "cell_type": "code",
   "execution_count": 110,
   "metadata": {},
   "outputs": [],
   "source": [
    "# as only 2 courses are available for completion analysis, I decided to leave results in the table form"
   ]
  },
  {
   "cell_type": "code",
   "execution_count": 111,
   "metadata": {},
   "outputs": [
    {
     "name": "stdout",
     "output_type": "stream",
     "text": [
      "Completion of courses by semester \n",
      " \n",
      "   code_module code_presentation      rate\n",
      "2         DDD             2013B  0.839465\n",
      "1         CCC             2014J  0.872322\n",
      "5         DDD             2014J  0.885956\n",
      "0         CCC             2014B  0.891275\n",
      "3         DDD             2013J  0.908714\n",
      "4         DDD             2014B  0.927063\n"
     ]
    }
   ],
   "source": [
    "print('Completion of courses by semester \\n \\n {}'\n",
    "      .format(all_exams[['code_module', 'code_presentation', 'rate']].sort_values('rate')))"
   ]
  },
  {
   "cell_type": "code",
   "execution_count": 112,
   "metadata": {},
   "outputs": [
    {
     "name": "stdout",
     "output_type": "stream",
     "text": [
      "Completion of courses excluding semesters \n",
      " \n",
      "   code_module      rate\n",
      "0         CCC  0.881799\n",
      "1         DDD  0.890299\n"
     ]
    }
   ],
   "source": [
    "print('Completion of courses excluding semesters \\n \\n {}'\n",
    "      .format(all_exams.groupby('code_module', as_index=False)\n",
    "                      .agg({'rate': 'mean'}))\n",
    "               )"
   ]
  },
  {
   "cell_type": "code",
   "execution_count": null,
   "metadata": {},
   "outputs": [],
   "source": []
  },
  {
   "cell_type": "code",
   "execution_count": null,
   "metadata": {},
   "outputs": [],
   "source": []
  },
  {
   "cell_type": "markdown",
   "metadata": {},
   "source": [
    "3. For each module to dtermine the average time for passing exams? (Passing is the last successfull completion of the exam)"
   ]
  },
  {
   "cell_type": "code",
   "execution_count": 113,
   "metadata": {},
   "outputs": [],
   "source": [
    "# as in this question, passing refers to the last successful completion of the test regardless of the type of test,\n",
    "# using scores_adjusted\n",
    "\n",
    "# to find time of last successfull test for each student"
   ]
  },
  {
   "cell_type": "code",
   "execution_count": 114,
   "metadata": {},
   "outputs": [],
   "source": [
    "last_time = (scores_adjusted.query('score >= 40')\n",
    "                            .groupby(['code_module', 'id_student'], as_index=False)\n",
    "                            .agg({'date_submitted': 'max'})\n",
    "                            .rename(columns={'date_submitted': 'last_exam_time'})\n",
    "             )"
   ]
  },
  {
   "cell_type": "code",
   "execution_count": 115,
   "metadata": {},
   "outputs": [
    {
     "data": {
      "text/html": [
       "<div>\n",
       "<style scoped>\n",
       "    .dataframe tbody tr th:only-of-type {\n",
       "        vertical-align: middle;\n",
       "    }\n",
       "\n",
       "    .dataframe tbody tr th {\n",
       "        vertical-align: top;\n",
       "    }\n",
       "\n",
       "    .dataframe thead th {\n",
       "        text-align: right;\n",
       "    }\n",
       "</style>\n",
       "<table border=\"1\" class=\"dataframe\">\n",
       "  <thead>\n",
       "    <tr style=\"text-align: right;\">\n",
       "      <th></th>\n",
       "      <th>code_module</th>\n",
       "      <th>id_student</th>\n",
       "      <th>last_exam_time</th>\n",
       "    </tr>\n",
       "  </thead>\n",
       "  <tbody>\n",
       "    <tr>\n",
       "      <th>0</th>\n",
       "      <td>AAA</td>\n",
       "      <td>100893</td>\n",
       "      <td>218</td>\n",
       "    </tr>\n",
       "    <tr>\n",
       "      <th>1</th>\n",
       "      <td>AAA</td>\n",
       "      <td>101116</td>\n",
       "      <td>215</td>\n",
       "    </tr>\n",
       "    <tr>\n",
       "      <th>2</th>\n",
       "      <td>AAA</td>\n",
       "      <td>101781</td>\n",
       "      <td>213</td>\n",
       "    </tr>\n",
       "    <tr>\n",
       "      <th>3</th>\n",
       "      <td>AAA</td>\n",
       "      <td>102806</td>\n",
       "      <td>215</td>\n",
       "    </tr>\n",
       "    <tr>\n",
       "      <th>4</th>\n",
       "      <td>AAA</td>\n",
       "      <td>102952</td>\n",
       "      <td>215</td>\n",
       "    </tr>\n",
       "  </tbody>\n",
       "</table>\n",
       "</div>"
      ],
      "text/plain": [
       "  code_module id_student  last_exam_time\n",
       "0         AAA     100893             218\n",
       "1         AAA     101116             215\n",
       "2         AAA     101781             213\n",
       "3         AAA     102806             215\n",
       "4         AAA     102952             215"
      ]
     },
     "execution_count": 115,
     "metadata": {},
     "output_type": "execute_result"
    }
   ],
   "source": [
    "last_time.head()"
   ]
  },
  {
   "cell_type": "code",
   "execution_count": 119,
   "metadata": {},
   "outputs": [],
   "source": [
    "# to find the average time for each course"
   ]
  },
  {
   "cell_type": "code",
   "execution_count": 117,
   "metadata": {},
   "outputs": [],
   "source": [
    "avg_time = (last_time.groupby('code_module', as_index=False)\n",
    "                         .agg({'last_exam_time': 'mean'})\n",
    "                         .rename(columns={'last_exam_time': 'avg_time'})\n",
    ")"
   ]
  },
  {
   "cell_type": "code",
   "execution_count": 118,
   "metadata": {},
   "outputs": [
    {
     "data": {
      "text/html": [
       "<div>\n",
       "<style scoped>\n",
       "    .dataframe tbody tr th:only-of-type {\n",
       "        vertical-align: middle;\n",
       "    }\n",
       "\n",
       "    .dataframe tbody tr th {\n",
       "        vertical-align: top;\n",
       "    }\n",
       "\n",
       "    .dataframe thead th {\n",
       "        text-align: right;\n",
       "    }\n",
       "</style>\n",
       "<table border=\"1\" class=\"dataframe\">\n",
       "  <thead>\n",
       "    <tr style=\"text-align: right;\">\n",
       "      <th></th>\n",
       "      <th>code_module</th>\n",
       "      <th>avg_time</th>\n",
       "    </tr>\n",
       "  </thead>\n",
       "  <tbody>\n",
       "    <tr>\n",
       "      <th>0</th>\n",
       "      <td>AAA</td>\n",
       "      <td>193.477679</td>\n",
       "    </tr>\n",
       "    <tr>\n",
       "      <th>1</th>\n",
       "      <td>BBB</td>\n",
       "      <td>166.295404</td>\n",
       "    </tr>\n",
       "    <tr>\n",
       "      <th>2</th>\n",
       "      <td>CCC</td>\n",
       "      <td>174.921431</td>\n",
       "    </tr>\n",
       "    <tr>\n",
       "      <th>3</th>\n",
       "      <td>DDD</td>\n",
       "      <td>179.230600</td>\n",
       "    </tr>\n",
       "    <tr>\n",
       "      <th>4</th>\n",
       "      <td>EEE</td>\n",
       "      <td>138.412132</td>\n",
       "    </tr>\n",
       "  </tbody>\n",
       "</table>\n",
       "</div>"
      ],
      "text/plain": [
       "  code_module    avg_time\n",
       "0         AAA  193.477679\n",
       "1         BBB  166.295404\n",
       "2         CCC  174.921431\n",
       "3         DDD  179.230600\n",
       "4         EEE  138.412132"
      ]
     },
     "execution_count": 118,
     "metadata": {},
     "output_type": "execute_result"
    }
   ],
   "source": [
    "avg_time.head()"
   ]
  },
  {
   "cell_type": "code",
   "execution_count": null,
   "metadata": {},
   "outputs": [],
   "source": []
  },
  {
   "cell_type": "code",
   "execution_count": 120,
   "metadata": {},
   "outputs": [
    {
     "name": "stdout",
     "output_type": "stream",
     "text": [
      "The average test time by course \n",
      " \n",
      "   code_module    avg_time\n",
      "0         AAA  193.477679\n",
      "1         BBB  166.295404\n",
      "2         CCC  174.921431\n",
      "3         DDD  179.230600\n",
      "4         EEE  138.412132\n",
      "5         FFF  168.400505\n",
      "6         GGG  194.842959\n"
     ]
    }
   ],
   "source": [
    "print('The average test time by course \\n \\n {}'.format(avg_time))"
   ]
  },
  {
   "cell_type": "code",
   "execution_count": null,
   "metadata": {},
   "outputs": [],
   "source": []
  },
  {
   "cell_type": "code",
   "execution_count": null,
   "metadata": {},
   "outputs": [],
   "source": []
  },
  {
   "cell_type": "markdown",
   "metadata": {},
   "source": [
    "4. To identify the most popular courses (TOP-3) by number of registrations and courses with the highest churn rate (TOP-3)."
   ]
  },
  {
   "cell_type": "code",
   "execution_count": 121,
   "metadata": {},
   "outputs": [],
   "source": [
    "# using registration_adj\n",
    "\n",
    "# to count the number of registrations for each course"
   ]
  },
  {
   "cell_type": "code",
   "execution_count": 122,
   "metadata": {},
   "outputs": [],
   "source": [
    "registration_cnt = (registration_adj.groupby('code_module', as_index=False)\n",
    "                                    .agg({'id_student': 'count'})\n",
    "                                    .rename(columns={'id_student': 'reg_cnt'}))"
   ]
  },
  {
   "cell_type": "code",
   "execution_count": 123,
   "metadata": {},
   "outputs": [
    {
     "data": {
      "text/html": [
       "<div>\n",
       "<style scoped>\n",
       "    .dataframe tbody tr th:only-of-type {\n",
       "        vertical-align: middle;\n",
       "    }\n",
       "\n",
       "    .dataframe tbody tr th {\n",
       "        vertical-align: top;\n",
       "    }\n",
       "\n",
       "    .dataframe thead th {\n",
       "        text-align: right;\n",
       "    }\n",
       "</style>\n",
       "<table border=\"1\" class=\"dataframe\">\n",
       "  <thead>\n",
       "    <tr style=\"text-align: right;\">\n",
       "      <th></th>\n",
       "      <th>code_module</th>\n",
       "      <th>reg_cnt</th>\n",
       "    </tr>\n",
       "  </thead>\n",
       "  <tbody>\n",
       "    <tr>\n",
       "      <th>1</th>\n",
       "      <td>BBB</td>\n",
       "      <td>7900</td>\n",
       "    </tr>\n",
       "    <tr>\n",
       "      <th>5</th>\n",
       "      <td>FFF</td>\n",
       "      <td>7751</td>\n",
       "    </tr>\n",
       "    <tr>\n",
       "      <th>3</th>\n",
       "      <td>DDD</td>\n",
       "      <td>6257</td>\n",
       "    </tr>\n",
       "    <tr>\n",
       "      <th>2</th>\n",
       "      <td>CCC</td>\n",
       "      <td>4426</td>\n",
       "    </tr>\n",
       "    <tr>\n",
       "      <th>4</th>\n",
       "      <td>EEE</td>\n",
       "      <td>2932</td>\n",
       "    </tr>\n",
       "    <tr>\n",
       "      <th>6</th>\n",
       "      <td>GGG</td>\n",
       "      <td>2534</td>\n",
       "    </tr>\n",
       "    <tr>\n",
       "      <th>0</th>\n",
       "      <td>AAA</td>\n",
       "      <td>748</td>\n",
       "    </tr>\n",
       "  </tbody>\n",
       "</table>\n",
       "</div>"
      ],
      "text/plain": [
       "  code_module  reg_cnt\n",
       "1         BBB     7900\n",
       "5         FFF     7751\n",
       "3         DDD     6257\n",
       "2         CCC     4426\n",
       "4         EEE     2932\n",
       "6         GGG     2534\n",
       "0         AAA      748"
      ]
     },
     "execution_count": 123,
     "metadata": {},
     "output_type": "execute_result"
    }
   ],
   "source": [
    "registration_cnt.sort_values('reg_cnt', ascending=False)"
   ]
  },
  {
   "cell_type": "code",
   "execution_count": 124,
   "metadata": {},
   "outputs": [],
   "source": [
    "# to count the number of canceled registrations"
   ]
  },
  {
   "cell_type": "code",
   "execution_count": 125,
   "metadata": {},
   "outputs": [],
   "source": [
    "unregistration_cnt = (registration_adj.query('date_unregistration == date_unregistration')\n",
    "                                      .groupby('code_module', as_index=False)\n",
    "                                      .agg({'id_student': 'count'})\n",
    "                                      .rename(columns={'id_student': 'unreg_cnt'}))"
   ]
  },
  {
   "cell_type": "code",
   "execution_count": 126,
   "metadata": {},
   "outputs": [
    {
     "data": {
      "text/html": [
       "<div>\n",
       "<style scoped>\n",
       "    .dataframe tbody tr th:only-of-type {\n",
       "        vertical-align: middle;\n",
       "    }\n",
       "\n",
       "    .dataframe tbody tr th {\n",
       "        vertical-align: top;\n",
       "    }\n",
       "\n",
       "    .dataframe thead th {\n",
       "        text-align: right;\n",
       "    }\n",
       "</style>\n",
       "<table border=\"1\" class=\"dataframe\">\n",
       "  <thead>\n",
       "    <tr style=\"text-align: right;\">\n",
       "      <th></th>\n",
       "      <th>code_module</th>\n",
       "      <th>unreg_cnt</th>\n",
       "    </tr>\n",
       "  </thead>\n",
       "  <tbody>\n",
       "    <tr>\n",
       "      <th>5</th>\n",
       "      <td>FFF</td>\n",
       "      <td>2370</td>\n",
       "    </tr>\n",
       "    <tr>\n",
       "      <th>1</th>\n",
       "      <td>BBB</td>\n",
       "      <td>2369</td>\n",
       "    </tr>\n",
       "    <tr>\n",
       "      <th>3</th>\n",
       "      <td>DDD</td>\n",
       "      <td>2223</td>\n",
       "    </tr>\n",
       "    <tr>\n",
       "      <th>2</th>\n",
       "      <td>CCC</td>\n",
       "      <td>1940</td>\n",
       "    </tr>\n",
       "    <tr>\n",
       "      <th>4</th>\n",
       "      <td>EEE</td>\n",
       "      <td>716</td>\n",
       "    </tr>\n",
       "    <tr>\n",
       "      <th>6</th>\n",
       "      <td>GGG</td>\n",
       "      <td>289</td>\n",
       "    </tr>\n",
       "    <tr>\n",
       "      <th>0</th>\n",
       "      <td>AAA</td>\n",
       "      <td>126</td>\n",
       "    </tr>\n",
       "  </tbody>\n",
       "</table>\n",
       "</div>"
      ],
      "text/plain": [
       "  code_module  unreg_cnt\n",
       "5         FFF       2370\n",
       "1         BBB       2369\n",
       "3         DDD       2223\n",
       "2         CCC       1940\n",
       "4         EEE        716\n",
       "6         GGG        289\n",
       "0         AAA        126"
      ]
     },
     "execution_count": 126,
     "metadata": {},
     "output_type": "execute_result"
    }
   ],
   "source": [
    "unregistration_cnt.sort_values('unreg_cnt', ascending=False)"
   ]
  },
  {
   "cell_type": "code",
   "execution_count": 127,
   "metadata": {},
   "outputs": [],
   "source": [
    "# to count the relative number of cancelled registrations"
   ]
  },
  {
   "cell_type": "code",
   "execution_count": 128,
   "metadata": {},
   "outputs": [],
   "source": [
    "total_registr = unregistration_cnt.merge(registration_cnt, on='code_module')"
   ]
  },
  {
   "cell_type": "code",
   "execution_count": 129,
   "metadata": {},
   "outputs": [],
   "source": [
    "total_registr['rate'] = total_registr.unreg_cnt / total_registr.reg_cnt"
   ]
  },
  {
   "cell_type": "code",
   "execution_count": 130,
   "metadata": {},
   "outputs": [
    {
     "data": {
      "text/html": [
       "<div>\n",
       "<style scoped>\n",
       "    .dataframe tbody tr th:only-of-type {\n",
       "        vertical-align: middle;\n",
       "    }\n",
       "\n",
       "    .dataframe tbody tr th {\n",
       "        vertical-align: top;\n",
       "    }\n",
       "\n",
       "    .dataframe thead th {\n",
       "        text-align: right;\n",
       "    }\n",
       "</style>\n",
       "<table border=\"1\" class=\"dataframe\">\n",
       "  <thead>\n",
       "    <tr style=\"text-align: right;\">\n",
       "      <th></th>\n",
       "      <th>code_module</th>\n",
       "      <th>unreg_cnt</th>\n",
       "      <th>reg_cnt</th>\n",
       "      <th>rate</th>\n",
       "    </tr>\n",
       "  </thead>\n",
       "  <tbody>\n",
       "    <tr>\n",
       "      <th>2</th>\n",
       "      <td>CCC</td>\n",
       "      <td>1940</td>\n",
       "      <td>4426</td>\n",
       "      <td>0.438319</td>\n",
       "    </tr>\n",
       "    <tr>\n",
       "      <th>3</th>\n",
       "      <td>DDD</td>\n",
       "      <td>2223</td>\n",
       "      <td>6257</td>\n",
       "      <td>0.355282</td>\n",
       "    </tr>\n",
       "    <tr>\n",
       "      <th>5</th>\n",
       "      <td>FFF</td>\n",
       "      <td>2370</td>\n",
       "      <td>7751</td>\n",
       "      <td>0.305767</td>\n",
       "    </tr>\n",
       "    <tr>\n",
       "      <th>1</th>\n",
       "      <td>BBB</td>\n",
       "      <td>2369</td>\n",
       "      <td>7900</td>\n",
       "      <td>0.299873</td>\n",
       "    </tr>\n",
       "    <tr>\n",
       "      <th>4</th>\n",
       "      <td>EEE</td>\n",
       "      <td>716</td>\n",
       "      <td>2932</td>\n",
       "      <td>0.244202</td>\n",
       "    </tr>\n",
       "    <tr>\n",
       "      <th>0</th>\n",
       "      <td>AAA</td>\n",
       "      <td>126</td>\n",
       "      <td>748</td>\n",
       "      <td>0.168449</td>\n",
       "    </tr>\n",
       "    <tr>\n",
       "      <th>6</th>\n",
       "      <td>GGG</td>\n",
       "      <td>289</td>\n",
       "      <td>2534</td>\n",
       "      <td>0.114049</td>\n",
       "    </tr>\n",
       "  </tbody>\n",
       "</table>\n",
       "</div>"
      ],
      "text/plain": [
       "  code_module  unreg_cnt  reg_cnt      rate\n",
       "2         CCC       1940     4426  0.438319\n",
       "3         DDD       2223     6257  0.355282\n",
       "5         FFF       2370     7751  0.305767\n",
       "1         BBB       2369     7900  0.299873\n",
       "4         EEE        716     2932  0.244202\n",
       "0         AAA        126      748  0.168449\n",
       "6         GGG        289     2534  0.114049"
      ]
     },
     "execution_count": 130,
     "metadata": {},
     "output_type": "execute_result"
    }
   ],
   "source": [
    "total_registr.sort_values('rate', ascending=False)"
   ]
  },
  {
   "cell_type": "code",
   "execution_count": null,
   "metadata": {},
   "outputs": [],
   "source": []
  },
  {
   "cell_type": "markdown",
   "metadata": {},
   "source": [
    "Top 3 courses by number of registrations: BBB, FFF, DDD\n",
    "\n",
    "Top 3 courses by absolute number of registrations cancelled: FFF, BBB, DDD\n",
    "\n",
    "Top 3 courses by relative number of registrations cancelled: CCC, DDD, FFF"
   ]
  },
  {
   "cell_type": "code",
   "execution_count": null,
   "metadata": {},
   "outputs": [],
   "source": []
  },
  {
   "cell_type": "code",
   "execution_count": null,
   "metadata": {},
   "outputs": [],
   "source": []
  },
  {
   "cell_type": "markdown",
   "metadata": {},
   "source": [
    "5. To write a function that allows to costract cohort (semester) analysis. Between early 2013 and late 2014 to identify the semester with the lowest course completition and the average course turnaround time."
   ]
  },
  {
   "cell_type": "code",
   "execution_count": 131,
   "metadata": {},
   "outputs": [],
   "source": [
    "# using scores_for_module as the question is about course completion\n",
    "# for the function to work, it is important that the columns code_presentation and code_module columns \n",
    "# are attached to the dataframe with the scores"
   ]
  },
  {
   "cell_type": "code",
   "execution_count": 136,
   "metadata": {},
   "outputs": [],
   "source": [
    "def cohort(df):\n",
    "    good_exams = (df.query('(id_assessment in @lst_exam) & (score >=40)')\n",
    "                         .groupby(['code_presentation', 'code_module', 'id_assessment'], as_index=False)\n",
    "                         .agg({'id_student': 'count'})\n",
    "                         .rename(columns={'id_student': 'good_exam'})\n",
    "            )\n",
    "    total_exams = (df.query('id_assessment in @lst_exam')\n",
    "                             .groupby(['code_presentation', 'code_module', 'id_assessment'], as_index=False)\n",
    "                             .agg({'id_student': 'count'})\n",
    "                             .rename(columns={'id_student': 'total_exam'})\n",
    "            )\n",
    "    all_exams = good_exams.merge(total_exams, on=['code_presentation', 'id_assessment'])\n",
    "    all_exams['rate'] = all_exams.good_exam / all_exams.total_exam\n",
    "    pres_finality = (all_exams.groupby('code_presentation', as_index=False)\n",
    "                              .agg({'rate': 'mean'})\n",
    "                              )\n",
    "    \n",
    "    last_time = (df.query('score >= 40')\n",
    "                            .groupby(['code_presentation', 'code_module', 'id_student'], as_index=False)\n",
    "                            .agg({'date_submitted': 'max'})\n",
    "                            .rename(columns={'date_submitted': 'last_exam_time'})\n",
    "             )\n",
    "             \n",
    "    module_avg_time = (last_time.groupby(['code_presentation', 'code_module'], as_index=False)\n",
    "                                 .agg({'last_exam_time': 'mean'})\n",
    "                                 .rename(columns={'last_exam_time': 'avg_time_module'})\n",
    "                )\n",
    "                \n",
    "    pres_avg_time = (module_avg_time.groupby('code_presentation', as_index=False)\n",
    "                                   .agg({'avg_time_module': 'mean'})\n",
    "                                   .rename(columns=({'avg_time_module': 'avg_time'}))\n",
    "\n",
    "                )\n",
    "    cohort_pres = pres_finality.merge(pres_avg_time, on='code_presentation')\n",
    "    \n",
    "    return print(cohort_pres, '\\n', '\\n',\n",
    "                 'The minimum course completion rate is {min_rate} and refers to the semester {pres}'\n",
    "                 .format(min_rate=round(cohort_pres.rate.min(), 2), \n",
    "                         pres=cohort_pres.code_presentation[cohort_pres.rate.idxmin()]),  '\\n',\n",
    "                 'The longest average time of a course is {avg_time} and refers to the semester {pres}'\n",
    "                 .format(avg_time=round(cohort_pres.avg_time.max(), 2),\n",
    "                         pres=cohort_pres.code_presentation[cohort_pres.avg_time.idxmax()])\n",
    "                \n",
    "                \n",
    "                )"
   ]
  },
  {
   "cell_type": "code",
   "execution_count": null,
   "metadata": {},
   "outputs": [],
   "source": []
  },
  {
   "cell_type": "code",
   "execution_count": 137,
   "metadata": {},
   "outputs": [
    {
     "name": "stdout",
     "output_type": "stream",
     "text": [
      "  code_presentation      rate    avg_time\n",
      "0             2013B  0.839465  166.004883\n",
      "1             2013J  0.908714  178.891409\n",
      "2             2014B  0.909169  161.322598\n",
      "3             2014J  0.879139  179.960950 \n",
      " \n",
      " The minimum course completion rate is 0.84 and refers to the semester 2013B \n",
      " The longest average time of a course is 179.96 and refers to the semester 2014J\n"
     ]
    }
   ],
   "source": [
    "cohort(scores_for_module)"
   ]
  },
  {
   "cell_type": "code",
   "execution_count": null,
   "metadata": {},
   "outputs": [],
   "source": []
  },
  {
   "cell_type": "code",
   "execution_count": null,
   "metadata": {},
   "outputs": [],
   "source": []
  },
  {
   "cell_type": "markdown",
   "metadata": {},
   "source": [
    "6. To construct RFM-clusters of students adapted to the learning objective , where R is the average exam turnaround time, F is course completion rate, M - the average score in an exam. To describe how clusters were created."
   ]
  },
  {
   "cell_type": "code",
   "execution_count": 138,
   "metadata": {},
   "outputs": [],
   "source": [
    "# using scores_for_module"
   ]
  },
  {
   "cell_type": "code",
   "execution_count": 139,
   "metadata": {},
   "outputs": [
    {
     "data": {
      "text/plain": [
       "7381"
      ]
     },
     "execution_count": 139,
     "metadata": {},
     "output_type": "execute_result"
    }
   ],
   "source": [
    "scores_for_module.id_student.nunique()"
   ]
  },
  {
   "cell_type": "code",
   "execution_count": 140,
   "metadata": {},
   "outputs": [],
   "source": [
    "# to count R (the average exam turnaround time)"
   ]
  },
  {
   "cell_type": "code",
   "execution_count": 141,
   "metadata": {},
   "outputs": [],
   "source": [
    "avg_time_to_test = (scores_for_module.groupby('id_student', as_index=False)\n",
    "                                    .agg({'date_submitted': 'mean'})\n",
    "                                    .rename(columns={'date_submitted': 'avg_time'}))"
   ]
  },
  {
   "cell_type": "code",
   "execution_count": 142,
   "metadata": {},
   "outputs": [
    {
     "data": {
      "text/html": [
       "<div>\n",
       "<style scoped>\n",
       "    .dataframe tbody tr th:only-of-type {\n",
       "        vertical-align: middle;\n",
       "    }\n",
       "\n",
       "    .dataframe tbody tr th {\n",
       "        vertical-align: top;\n",
       "    }\n",
       "\n",
       "    .dataframe thead th {\n",
       "        text-align: right;\n",
       "    }\n",
       "</style>\n",
       "<table border=\"1\" class=\"dataframe\">\n",
       "  <thead>\n",
       "    <tr style=\"text-align: right;\">\n",
       "      <th></th>\n",
       "      <th>id_student</th>\n",
       "      <th>avg_time</th>\n",
       "    </tr>\n",
       "  </thead>\n",
       "  <tbody>\n",
       "    <tr>\n",
       "      <th>0</th>\n",
       "      <td>100561</td>\n",
       "      <td>116.714286</td>\n",
       "    </tr>\n",
       "    <tr>\n",
       "      <th>1</th>\n",
       "      <td>100788</td>\n",
       "      <td>140.000000</td>\n",
       "    </tr>\n",
       "    <tr>\n",
       "      <th>2</th>\n",
       "      <td>101279</td>\n",
       "      <td>34.000000</td>\n",
       "    </tr>\n",
       "    <tr>\n",
       "      <th>3</th>\n",
       "      <td>1018685</td>\n",
       "      <td>25.000000</td>\n",
       "    </tr>\n",
       "    <tr>\n",
       "      <th>4</th>\n",
       "      <td>102209</td>\n",
       "      <td>40.666667</td>\n",
       "    </tr>\n",
       "  </tbody>\n",
       "</table>\n",
       "</div>"
      ],
      "text/plain": [
       "  id_student    avg_time\n",
       "0     100561  116.714286\n",
       "1     100788  140.000000\n",
       "2     101279   34.000000\n",
       "3    1018685   25.000000\n",
       "4     102209   40.666667"
      ]
     },
     "execution_count": 142,
     "metadata": {},
     "output_type": "execute_result"
    }
   ],
   "source": [
    "avg_time_to_test.head()"
   ]
  },
  {
   "cell_type": "code",
   "execution_count": 143,
   "metadata": {},
   "outputs": [
    {
     "data": {
      "text/plain": [
       "(7381, 2)"
      ]
     },
     "execution_count": 143,
     "metadata": {},
     "output_type": "execute_result"
    }
   ],
   "source": [
    "avg_time_to_test.shape"
   ]
  },
  {
   "cell_type": "code",
   "execution_count": 144,
   "metadata": {},
   "outputs": [
    {
     "data": {
      "text/plain": [
       "count    7381.000000\n",
       "mean       94.753536\n",
       "std        40.830026\n",
       "min         0.000000\n",
       "25%        56.333333\n",
       "50%       115.571429\n",
       "75%       127.222222\n",
       "max       241.000000\n",
       "Name: avg_time, dtype: float64"
      ]
     },
     "execution_count": 144,
     "metadata": {},
     "output_type": "execute_result"
    }
   ],
   "source": [
    "avg_time_to_test.avg_time.describe()"
   ]
  },
  {
   "cell_type": "code",
   "execution_count": 145,
   "metadata": {},
   "outputs": [
    {
     "data": {
      "text/plain": [
       "<seaborn.axisgrid.FacetGrid at 0x19b619794c0>"
      ]
     },
     "execution_count": 145,
     "metadata": {},
     "output_type": "execute_result"
    },
    {
     "data": {
      "image/png": "[encoded data removed]",
      "text/plain": [
       "<Figure size 360x360 with 1 Axes>"
      ]
     },
     "metadata": {
      "needs_background": "light"
     },
     "output_type": "display_data"
    }
   ],
   "source": [
    "sns.displot(data=avg_time_to_test, x='avg_time')"
   ]
  },
  {
   "cell_type": "markdown",
   "metadata": {},
   "source": [
    "To divide the average exam time into 4 quartile groups: from the smallest (1) to the largest (4)"
   ]
  },
  {
   "cell_type": "code",
   "execution_count": 146,
   "metadata": {},
   "outputs": [],
   "source": [
    "time_boarders = avg_time_to_test.avg_time.quantile([0.25, 0.5, 0.75])"
   ]
  },
  {
   "cell_type": "code",
   "execution_count": 147,
   "metadata": {},
   "outputs": [],
   "source": [
    "avg_time_to_test['time_group'] = (avg_time_to_test.avg_time\n",
    "                                 .apply(lambda x: '1' if x < time_boarders[0.25] else \n",
    "                                        ('2' if x < time_boarders[0.5] else \n",
    "                                         ('3' if x < time_boarders[0.75] else '4')))\n",
    "                                )"
   ]
  },
  {
   "cell_type": "code",
   "execution_count": 148,
   "metadata": {},
   "outputs": [
    {
     "data": {
      "text/html": [
       "<div>\n",
       "<style scoped>\n",
       "    .dataframe tbody tr th:only-of-type {\n",
       "        vertical-align: middle;\n",
       "    }\n",
       "\n",
       "    .dataframe tbody tr th {\n",
       "        vertical-align: top;\n",
       "    }\n",
       "\n",
       "    .dataframe thead th {\n",
       "        text-align: right;\n",
       "    }\n",
       "</style>\n",
       "<table border=\"1\" class=\"dataframe\">\n",
       "  <thead>\n",
       "    <tr style=\"text-align: right;\">\n",
       "      <th></th>\n",
       "      <th>id_student</th>\n",
       "      <th>avg_time</th>\n",
       "      <th>time_group</th>\n",
       "    </tr>\n",
       "  </thead>\n",
       "  <tbody>\n",
       "    <tr>\n",
       "      <th>0</th>\n",
       "      <td>100561</td>\n",
       "      <td>116.714286</td>\n",
       "      <td>3</td>\n",
       "    </tr>\n",
       "    <tr>\n",
       "      <th>1</th>\n",
       "      <td>100788</td>\n",
       "      <td>140.000000</td>\n",
       "      <td>4</td>\n",
       "    </tr>\n",
       "    <tr>\n",
       "      <th>2</th>\n",
       "      <td>101279</td>\n",
       "      <td>34.000000</td>\n",
       "      <td>1</td>\n",
       "    </tr>\n",
       "    <tr>\n",
       "      <th>3</th>\n",
       "      <td>1018685</td>\n",
       "      <td>25.000000</td>\n",
       "      <td>1</td>\n",
       "    </tr>\n",
       "    <tr>\n",
       "      <th>4</th>\n",
       "      <td>102209</td>\n",
       "      <td>40.666667</td>\n",
       "      <td>1</td>\n",
       "    </tr>\n",
       "  </tbody>\n",
       "</table>\n",
       "</div>"
      ],
      "text/plain": [
       "  id_student    avg_time time_group\n",
       "0     100561  116.714286          3\n",
       "1     100788  140.000000          4\n",
       "2     101279   34.000000          1\n",
       "3    1018685   25.000000          1\n",
       "4     102209   40.666667          1"
      ]
     },
     "execution_count": 148,
     "metadata": {},
     "output_type": "execute_result"
    }
   ],
   "source": [
    "avg_time_to_test.head()"
   ]
  },
  {
   "cell_type": "code",
   "execution_count": 149,
   "metadata": {},
   "outputs": [
    {
     "data": {
      "text/plain": [
       "3    1866\n",
       "4    1846\n",
       "1    1842\n",
       "2    1827\n",
       "Name: time_group, dtype: int64"
      ]
     },
     "execution_count": 149,
     "metadata": {},
     "output_type": "execute_result"
    }
   ],
   "source": [
    "avg_time_to_test.time_group.value_counts()"
   ]
  },
  {
   "cell_type": "code",
   "execution_count": null,
   "metadata": {},
   "outputs": [],
   "source": []
  },
  {
   "cell_type": "code",
   "execution_count": 150,
   "metadata": {},
   "outputs": [],
   "source": [
    "# to count F (course completion)"
   ]
  },
  {
   "cell_type": "code",
   "execution_count": 151,
   "metadata": {},
   "outputs": [],
   "source": [
    "good_student = (scores_for_module.query('(id_assessment in @lst_exam) & (score >=40)')\n",
    "                                 .groupby('id_student', as_index=False)\n",
    "                                 .agg({'score': 'count'})\n",
    "                                 .rename(columns={'score': 'good_cnt'})\n",
    "            )"
   ]
  },
  {
   "cell_type": "code",
   "execution_count": 152,
   "metadata": {},
   "outputs": [],
   "source": [
    "total_student = (scores_for_module.query('id_assessment in @lst_exam')\n",
    "                                 .groupby('id_student', as_index=False)\n",
    "                                 .agg({'score': 'count'})\n",
    "                                 .rename(columns={'score': 'total_cnt'})\n",
    "            )"
   ]
  },
  {
   "cell_type": "code",
   "execution_count": 153,
   "metadata": {},
   "outputs": [],
   "source": [
    "all_student = good_student.merge(total_student, on='id_student')"
   ]
  },
  {
   "cell_type": "code",
   "execution_count": 154,
   "metadata": {},
   "outputs": [],
   "source": [
    "all_student['rate'] = all_student.good_cnt / all_student.total_cnt"
   ]
  },
  {
   "cell_type": "code",
   "execution_count": 155,
   "metadata": {},
   "outputs": [
    {
     "data": {
      "text/plain": [
       "count    4088.000000\n",
       "mean        0.996575\n",
       "std         0.041243\n",
       "min         0.500000\n",
       "25%         1.000000\n",
       "50%         1.000000\n",
       "75%         1.000000\n",
       "max         1.000000\n",
       "Name: rate, dtype: float64"
      ]
     },
     "execution_count": 155,
     "metadata": {},
     "output_type": "execute_result"
    }
   ],
   "source": [
    "all_student.rate.describe()"
   ]
  },
  {
   "cell_type": "code",
   "execution_count": 156,
   "metadata": {},
   "outputs": [
    {
     "data": {
      "text/plain": [
       "1.0    4060\n",
       "0.5      28\n",
       "Name: rate, dtype: int64"
      ]
     },
     "execution_count": 156,
     "metadata": {},
     "output_type": "execute_result"
    }
   ],
   "source": [
    "all_student.rate.value_counts()"
   ]
  },
  {
   "cell_type": "markdown",
   "metadata": {},
   "source": [
    "Since course completion takes only 2 values, divide the students into 3 groups:\n",
    "\n",
    "1 - completion == 0 (those who did not pass Exam)\n",
    "\n",
    "2 - completion == 0.5\n",
    "\n",
    "3 - completion == 1"
   ]
  },
  {
   "cell_type": "code",
   "execution_count": 157,
   "metadata": {},
   "outputs": [],
   "source": [
    "all_student['finality_group'] = all_student.rate.apply(lambda x: '2' if x==0.5 else '3')"
   ]
  },
  {
   "cell_type": "code",
   "execution_count": 158,
   "metadata": {},
   "outputs": [
    {
     "data": {
      "text/html": [
       "<div>\n",
       "<style scoped>\n",
       "    .dataframe tbody tr th:only-of-type {\n",
       "        vertical-align: middle;\n",
       "    }\n",
       "\n",
       "    .dataframe tbody tr th {\n",
       "        vertical-align: top;\n",
       "    }\n",
       "\n",
       "    .dataframe thead th {\n",
       "        text-align: right;\n",
       "    }\n",
       "</style>\n",
       "<table border=\"1\" class=\"dataframe\">\n",
       "  <thead>\n",
       "    <tr style=\"text-align: right;\">\n",
       "      <th></th>\n",
       "      <th>id_student</th>\n",
       "      <th>good_cnt</th>\n",
       "      <th>total_cnt</th>\n",
       "      <th>rate</th>\n",
       "      <th>finality_group</th>\n",
       "    </tr>\n",
       "  </thead>\n",
       "  <tbody>\n",
       "    <tr>\n",
       "      <th>0</th>\n",
       "      <td>100788</td>\n",
       "      <td>1</td>\n",
       "      <td>1</td>\n",
       "      <td>1.0</td>\n",
       "      <td>3</td>\n",
       "    </tr>\n",
       "    <tr>\n",
       "      <th>1</th>\n",
       "      <td>102221</td>\n",
       "      <td>1</td>\n",
       "      <td>1</td>\n",
       "      <td>1.0</td>\n",
       "      <td>3</td>\n",
       "    </tr>\n",
       "    <tr>\n",
       "      <th>2</th>\n",
       "      <td>1023623</td>\n",
       "      <td>1</td>\n",
       "      <td>1</td>\n",
       "      <td>1.0</td>\n",
       "      <td>3</td>\n",
       "    </tr>\n",
       "    <tr>\n",
       "      <th>3</th>\n",
       "      <td>102850</td>\n",
       "      <td>1</td>\n",
       "      <td>1</td>\n",
       "      <td>1.0</td>\n",
       "      <td>3</td>\n",
       "    </tr>\n",
       "    <tr>\n",
       "      <th>4</th>\n",
       "      <td>1031884</td>\n",
       "      <td>2</td>\n",
       "      <td>2</td>\n",
       "      <td>1.0</td>\n",
       "      <td>3</td>\n",
       "    </tr>\n",
       "  </tbody>\n",
       "</table>\n",
       "</div>"
      ],
      "text/plain": [
       "  id_student  good_cnt  total_cnt  rate finality_group\n",
       "0     100788         1          1   1.0              3\n",
       "1     102221         1          1   1.0              3\n",
       "2    1023623         1          1   1.0              3\n",
       "3     102850         1          1   1.0              3\n",
       "4    1031884         2          2   1.0              3"
      ]
     },
     "execution_count": 158,
     "metadata": {},
     "output_type": "execute_result"
    }
   ],
   "source": [
    "all_student.head()"
   ]
  },
  {
   "cell_type": "code",
   "execution_count": 159,
   "metadata": {},
   "outputs": [],
   "source": [
    "# to add 0 value when merging dataframes, as all_student only contains students who have passed Exam"
   ]
  },
  {
   "cell_type": "code",
   "execution_count": null,
   "metadata": {},
   "outputs": [],
   "source": []
  },
  {
   "cell_type": "code",
   "execution_count": 160,
   "metadata": {},
   "outputs": [],
   "source": [
    "# to count M (the average score in an exam)"
   ]
  },
  {
   "cell_type": "code",
   "execution_count": 161,
   "metadata": {},
   "outputs": [],
   "source": [
    "avg_score = (scores_for_module.groupby('id_student', as_index=False)\n",
    "                            .agg({'score': 'mean'})\n",
    "                            .rename(columns={'score': 'avg_score'})\n",
    "    )"
   ]
  },
  {
   "cell_type": "code",
   "execution_count": 162,
   "metadata": {},
   "outputs": [
    {
     "data": {
      "text/plain": [
       "count    7378.000000\n",
       "mean       67.665748\n",
       "std        18.756923\n",
       "min         0.000000\n",
       "25%        56.125000\n",
       "50%        70.000000\n",
       "75%        82.000000\n",
       "max       100.000000\n",
       "Name: avg_score, dtype: float64"
      ]
     },
     "execution_count": 162,
     "metadata": {},
     "output_type": "execute_result"
    }
   ],
   "source": [
    "avg_score.avg_score.describe()"
   ]
  },
  {
   "cell_type": "code",
   "execution_count": 163,
   "metadata": {},
   "outputs": [
    {
     "data": {
      "text/plain": [
       "<seaborn.axisgrid.FacetGrid at 0x19b5f35f5e0>"
      ]
     },
     "execution_count": 163,
     "metadata": {},
     "output_type": "execute_result"
    },
    {
     "data": {
      "image/png": "[encoded data removed]",
      "text/plain": [
       "<Figure size 360x360 with 1 Axes>"
      ]
     },
     "metadata": {
      "needs_background": "light"
     },
     "output_type": "display_data"
    }
   ],
   "source": [
    "sns.displot(avg_score, x='avg_score')"
   ]
  },
  {
   "cell_type": "markdown",
   "metadata": {},
   "source": [
    "Based on average grades, to divide students into 3 groups:\n",
    "\n",
    "1 - students who received a 'failing score' on average - avg_score < 40\n",
    "\n",
    "2 - students who received an average of 'credit' but did not receive very high scores (the first 50% of the remaining distribution)\n",
    "\n",
    "3 - students who received an average of 'credit' and received high scores (the second 50% of the remaining distribution)"
   ]
  },
  {
   "cell_type": "code",
   "execution_count": 164,
   "metadata": {},
   "outputs": [],
   "source": [
    "first_border = 40\n",
    "second_border = avg_score.query('avg_score >= 40').avg_score.quantile(0.5)"
   ]
  },
  {
   "cell_type": "code",
   "execution_count": 165,
   "metadata": {},
   "outputs": [],
   "source": [
    "avg_score['score_group'] = (avg_score.avg_score\n",
    "                      .apply(lambda x: '1' if x < first_border else('2' if x < second_border else '3')))"
   ]
  },
  {
   "cell_type": "code",
   "execution_count": 166,
   "metadata": {},
   "outputs": [
    {
     "data": {
      "text/plain": [
       "3    3411\n",
       "2    3406\n",
       "1     564\n",
       "Name: score_group, dtype: int64"
      ]
     },
     "execution_count": 166,
     "metadata": {},
     "output_type": "execute_result"
    }
   ],
   "source": [
    "avg_score.score_group.value_counts()"
   ]
  },
  {
   "cell_type": "code",
   "execution_count": 167,
   "metadata": {},
   "outputs": [],
   "source": [
    "# to merge all df"
   ]
  },
  {
   "cell_type": "code",
   "execution_count": 169,
   "metadata": {},
   "outputs": [],
   "source": [
    "student_groups = (avg_time_to_test[['id_student', 'time_group']]\n",
    "                  .merge(all_student[['id_student', 'finality_group']]\n",
    "                         .merge(avg_score[['id_student', 'score_group']], how='outer', on='id_student'))\n",
    "                 \n",
    "                 )"
   ]
  },
  {
   "cell_type": "code",
   "execution_count": 170,
   "metadata": {},
   "outputs": [
    {
     "data": {
      "text/plain": [
       "id_student           0\n",
       "time_group           0\n",
       "finality_group    3293\n",
       "score_group          0\n",
       "dtype: int64"
      ]
     },
     "execution_count": 170,
     "metadata": {},
     "output_type": "execute_result"
    }
   ],
   "source": [
    "student_groups.isna().sum()"
   ]
  },
  {
   "cell_type": "code",
   "execution_count": 171,
   "metadata": {},
   "outputs": [],
   "source": [
    "student_groups = student_groups.fillna('1').rename(columns={'time_group': 'r', 'finality_group': 'f', 'score_group': 'm'})"
   ]
  },
  {
   "cell_type": "code",
   "execution_count": 172,
   "metadata": {},
   "outputs": [
    {
     "data": {
      "text/html": [
       "<div>\n",
       "<style scoped>\n",
       "    .dataframe tbody tr th:only-of-type {\n",
       "        vertical-align: middle;\n",
       "    }\n",
       "\n",
       "    .dataframe tbody tr th {\n",
       "        vertical-align: top;\n",
       "    }\n",
       "\n",
       "    .dataframe thead th {\n",
       "        text-align: right;\n",
       "    }\n",
       "</style>\n",
       "<table border=\"1\" class=\"dataframe\">\n",
       "  <thead>\n",
       "    <tr style=\"text-align: right;\">\n",
       "      <th></th>\n",
       "      <th>id_student</th>\n",
       "      <th>r</th>\n",
       "      <th>f</th>\n",
       "      <th>m</th>\n",
       "    </tr>\n",
       "  </thead>\n",
       "  <tbody>\n",
       "    <tr>\n",
       "      <th>0</th>\n",
       "      <td>100561</td>\n",
       "      <td>3</td>\n",
       "      <td>1</td>\n",
       "      <td>2</td>\n",
       "    </tr>\n",
       "    <tr>\n",
       "      <th>1</th>\n",
       "      <td>100788</td>\n",
       "      <td>4</td>\n",
       "      <td>3</td>\n",
       "      <td>3</td>\n",
       "    </tr>\n",
       "    <tr>\n",
       "      <th>2</th>\n",
       "      <td>101279</td>\n",
       "      <td>1</td>\n",
       "      <td>1</td>\n",
       "      <td>2</td>\n",
       "    </tr>\n",
       "    <tr>\n",
       "      <th>3</th>\n",
       "      <td>1018685</td>\n",
       "      <td>1</td>\n",
       "      <td>1</td>\n",
       "      <td>2</td>\n",
       "    </tr>\n",
       "    <tr>\n",
       "      <th>4</th>\n",
       "      <td>102209</td>\n",
       "      <td>1</td>\n",
       "      <td>1</td>\n",
       "      <td>2</td>\n",
       "    </tr>\n",
       "  </tbody>\n",
       "</table>\n",
       "</div>"
      ],
      "text/plain": [
       "  id_student  r  f  m\n",
       "0     100561  3  1  2\n",
       "1     100788  4  3  3\n",
       "2     101279  1  1  2\n",
       "3    1018685  1  1  2\n",
       "4     102209  1  1  2"
      ]
     },
     "execution_count": 172,
     "metadata": {},
     "output_type": "execute_result"
    }
   ],
   "source": [
    "student_groups.head()"
   ]
  },
  {
   "cell_type": "code",
   "execution_count": 173,
   "metadata": {},
   "outputs": [],
   "source": [
    "student_groups['rfm'] = student_groups.r + student_groups.f + student_groups.m"
   ]
  },
  {
   "cell_type": "code",
   "execution_count": null,
   "metadata": {},
   "outputs": [],
   "source": []
  },
  {
   "cell_type": "markdown",
   "metadata": {},
   "source": [
    "DF student_groups contains a list of students and clusters to which they belong"
   ]
  },
  {
   "cell_type": "code",
   "execution_count": 174,
   "metadata": {},
   "outputs": [
    {
     "data": {
      "text/html": [
       "<div>\n",
       "<style scoped>\n",
       "    .dataframe tbody tr th:only-of-type {\n",
       "        vertical-align: middle;\n",
       "    }\n",
       "\n",
       "    .dataframe tbody tr th {\n",
       "        vertical-align: top;\n",
       "    }\n",
       "\n",
       "    .dataframe thead th {\n",
       "        text-align: right;\n",
       "    }\n",
       "</style>\n",
       "<table border=\"1\" class=\"dataframe\">\n",
       "  <thead>\n",
       "    <tr style=\"text-align: right;\">\n",
       "      <th></th>\n",
       "      <th>id_student</th>\n",
       "      <th>r</th>\n",
       "      <th>f</th>\n",
       "      <th>m</th>\n",
       "      <th>rfm</th>\n",
       "    </tr>\n",
       "  </thead>\n",
       "  <tbody>\n",
       "    <tr>\n",
       "      <th>0</th>\n",
       "      <td>100561</td>\n",
       "      <td>3</td>\n",
       "      <td>1</td>\n",
       "      <td>2</td>\n",
       "      <td>312</td>\n",
       "    </tr>\n",
       "    <tr>\n",
       "      <th>1</th>\n",
       "      <td>100788</td>\n",
       "      <td>4</td>\n",
       "      <td>3</td>\n",
       "      <td>3</td>\n",
       "      <td>433</td>\n",
       "    </tr>\n",
       "    <tr>\n",
       "      <th>2</th>\n",
       "      <td>101279</td>\n",
       "      <td>1</td>\n",
       "      <td>1</td>\n",
       "      <td>2</td>\n",
       "      <td>112</td>\n",
       "    </tr>\n",
       "    <tr>\n",
       "      <th>3</th>\n",
       "      <td>1018685</td>\n",
       "      <td>1</td>\n",
       "      <td>1</td>\n",
       "      <td>2</td>\n",
       "      <td>112</td>\n",
       "    </tr>\n",
       "    <tr>\n",
       "      <th>4</th>\n",
       "      <td>102209</td>\n",
       "      <td>1</td>\n",
       "      <td>1</td>\n",
       "      <td>2</td>\n",
       "      <td>112</td>\n",
       "    </tr>\n",
       "  </tbody>\n",
       "</table>\n",
       "</div>"
      ],
      "text/plain": [
       "  id_student  r  f  m  rfm\n",
       "0     100561  3  1  2  312\n",
       "1     100788  4  3  3  433\n",
       "2     101279  1  1  2  112\n",
       "3    1018685  1  1  2  112\n",
       "4     102209  1  1  2  112"
      ]
     },
     "execution_count": 174,
     "metadata": {},
     "output_type": "execute_result"
    }
   ],
   "source": [
    "student_groups.head()"
   ]
  }
 ],
 "metadata": {
  "kernelspec": {
   "display_name": "Python 3",
   "language": "python",
   "name": "python3"
  },
  "language_info": {
   "codemirror_mode": {
    "name": "ipython",
    "version": 3
   },
   "file_extension": ".py",
   "mimetype": "text/x-python",
   "name": "python",
   "nbconvert_exporter": "python",
   "pygments_lexer": "ipython3",
   "version": "3.8.5"
  }
 },
 "nbformat": 4,
 "nbformat_minor": 4
}
